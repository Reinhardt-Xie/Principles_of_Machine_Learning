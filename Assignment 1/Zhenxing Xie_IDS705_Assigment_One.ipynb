{
 "cells": [
  {
   "cell_type": "markdown",
   "metadata": {},
   "source": [
    "# Assignment 1 - Probability, Linear Algebra, Programming, and Git"
   ]
  },
  {
   "cell_type": "markdown",
   "metadata": {},
   "source": [
    "## Zhenxing Xie\n",
    "Netid:  **zx94**"
   ]
  },
  {
   "cell_type": "markdown",
   "metadata": {},
   "source": [
    "Instructions for all assignments can be found [here](https://github.com/kylebradbury/ids705/blob/master/assignments/_Assignment%20Instructions.ipynb), which is also linked to from the [course syllabus](https://kylebradbury.github.io/ids705/index.html)."
   ]
  },
  {
   "cell_type": "markdown",
   "metadata": {},
   "source": [
    "# Probability and Statistics Theory"
   ]
  },
  {
   "cell_type": "markdown",
   "metadata": {},
   "source": [
    "*Note: for all assignments, write out all equations and math using markdown and [LaTeX](https://tobi.oetiker.ch/lshort/lshort.pdf). For this section of the assignment (Probability and Statistics Theory) show and type up ALL math work*"
   ]
  },
  {
   "cell_type": "markdown",
   "metadata": {},
   "source": [
    "## 1\n",
    "**[3 points]**  \n",
    "Let $f(x) = \\begin{cases}\n",
    "                0           & x < 0  \\\\\n",
    "                \\alpha x^2  & 0 \\leq x \\leq 2 \\\\\n",
    "                0           & 2 < x\n",
    "            \\end{cases}$\n",
    "            \n",
    "For what value of $\\alpha$ is $f(x)$ a valid probability density function?"
   ]
  },
  {
   "cell_type": "markdown",
   "metadata": {},
   "source": [
    "**ANSWER**\n",
    "\n",
    "\n",
    "In essence, the function $f(x)$ should satisfy $\\int_{-\\infty}^{+\\infty} f(x) dx = 1$, thus, \n",
    "\n",
    "$$ \\int_{-\\infty}^{+\\infty} f(x) dx = \\int_{-\\infty}^{0} 0 dx + \\int_{0}^{2} \\alpha x^2 dx + \\int_{2}^{+\\infty} 0 dx = 1$$\n",
    "\n",
    "therefore, \n",
    "\n",
    "$$ \\int_{0}^{2} \\alpha x^2 dx = 1 $$  \n",
    "\n",
    "so we have,\n",
    "\n",
    "$$ \\frac{8}{3} \\alpha = 1$$\n",
    "\n",
    "the value of $\\alpha$ is: $$\\alpha = \\frac{3}{8}$$"
   ]
  },
  {
   "cell_type": "markdown",
   "metadata": {},
   "source": [
    "## 2\n",
    "**[3 points]** What is the cumulative distribution function (CDF) that corresponds to the following probability distribution function? Please state the value of the CDF for all possible values of $x$.\n",
    "\n",
    "$f(x) = \\begin{cases}\n",
    "    \\frac{1}{3} & 0 < x < 3 \\\\\n",
    "    0           & \\text{otherwise}\n",
    "    \\end{cases}$"
   ]
  },
  {
   "cell_type": "markdown",
   "metadata": {},
   "source": [
    "**ANSWER**\n",
    "\n",
    "Set the CDF as $F(x)$, then,\n",
    "\n",
    "when $x \\leq 0$,\n",
    "\n",
    "$$ F(x) = \\int_{-\\infty}^{x} 0 dx = 0 $$  \n",
    "\n",
    "and then when $0 < x < 3$ \n",
    "\n",
    "$$ F(x) = \\int_{-\\infty}^{x} 0 dx  + \\int_{0}^{x} \\frac{1}{3} dx = 0 + \\frac{x}{3} = \\frac{x}{3}$$\n",
    "\n",
    "when $x \\geq 3$, \n",
    "\n",
    "$$ F(x) = \\int_{-\\infty}^{x} 0 dx  + \\int_{0}^{x} \\frac{1}{3} dx + \\int_{x}^{+\\infty} 0 dx = 0 + 3*\\frac{1}{3} + 0 = 1$$\n",
    "\n",
    "so we have,\n",
    "\n",
    " $$F(x) = \\begin{cases}\n",
    "                0           & x \\leq 0 \\\\\n",
    "                \\frac{x}{3} &  0 < x < 3 \\\\\n",
    "                1           & x \\geq 3 \n",
    "            \\end{cases}$$\n",
    "\n",
    "\n"
   ]
  },
  {
   "cell_type": "markdown",
   "metadata": {},
   "source": [
    "## 3\n",
    "**[6 points]** For the probability distribution function for the random variable $X$,\n",
    "\n",
    "$f(x) = \\begin{cases}\n",
    "    \\frac{1}{3} & 0 < x < 3 \\\\\n",
    "    0           & \\text{otherwise}\n",
    "    \\end{cases}$\n",
    "    \n",
    "what is the (a) expected value and (b) variance of $X$. *Show all work*."
   ]
  },
  {
   "cell_type": "markdown",
   "metadata": {},
   "source": [
    "**ANSWER**\n",
    "\n",
    "**(a) The formula of Expected Value $E(X)$ is as following:**\n",
    "    \n",
    "$$E(X) = \\int_{-\\infty}^{+\\infty} x f(x) dx$$\n",
    "\n",
    "So plug in the aforementioned $f(x)$ we get: \n",
    "    \n",
    "$$E(X) = \\int_{0}^{3}\\frac{x}{3} dx = \\frac{3}{2}$$\n",
    "\n",
    "\n",
    "\n",
    "\n",
    "**(b) One formula for calculating Variance $Var(X)$ is as following:**\n",
    "\n",
    "$$Var(X) = E(X^2)- (E(X))^2$$\n",
    "\n",
    "We can evaluate $E(X^2)$ and $E(X)^2$ by utilizing the $E(X)$ formula above:\n",
    "\n",
    "$$(E(X))^2 = (\\frac{3}{2})^2 = \\frac{9}{4}$$\n",
    "\n",
    "$$E(X^2) = \\int_{-\\infty}^{+\\infty} x^2 f(x) dx = \\int_{0}^{3} \\frac{1}{3} x^2 dx = 3$$\n",
    "\n",
    "Therefore, the $Var(X)$ is as following:\n",
    "\n",
    "$$ Var(X) = E(X^2) - (E(X))^2 = 3 - \\frac{9}{4} = \\frac{3}{4}$$\n",
    "\n",
    "\n",
    "\n"
   ]
  },
  {
   "cell_type": "markdown",
   "metadata": {},
   "source": [
    "## 4\n",
    "**[6 points]** Consider the following table of data that provides the values of a discrete data vector $\\mathbf{x}$ of samples from the random variable $X$, where each entry in $\\mathbf{x}$ is given as $x_i$.\n",
    "\n",
    "*Table 1. Dataset N=5 observations*\n",
    "\n",
    "|        | $x_0$ | $x_1$ | $x_2$ | $x_3$ | $x_4$ |\n",
    "|------  |-------|-------|-------|-------|-------|\n",
    "|$\\textbf{x}$| 2     | 3     | 10    | -1    | -1    |\n",
    "\n",
    "What is the (a) mean, (b) variance, and the  of the data? \n",
    "\n",
    "*Show all work. Your answer should include the definition of mean, median, and variance in the context of discrete data.*"
   ]
  },
  {
   "cell_type": "markdown",
   "metadata": {},
   "source": [
    "**ANSWER**\n",
    "\n",
    "**(a) Mean**\n",
    "\n",
    "$$E(X) = \\sum_{i=1}^{n} \\frac{x_i}{n} = \\frac{1}{5}(2 + 3 + 10 - 1 - 1) = \\frac{13}{5}$$\n",
    "\n",
    "\n",
    "**(b) Variance**\n",
    "\n",
    "$$(E(X))^2 = (\\frac{13}{5})^2 = \\frac{169}{25}$$\n",
    "\n",
    "$$E(X^2) = \\sum_{i=1}^{n}\\frac{x_i^2}{n} = \\frac{1}{5}\\cdot 2^2 +\\frac{1}{5} \\cdot 3^2 + \\frac{1}{5} \\cdot 10^2 + \\frac{1}{5} \\cdot (-1)^2 + \\frac{1}{5} \\cdot (-1)^2 = 23$$\n",
    "\n",
    "$$Var(X) = \\frac{1}{n}\\sum_{i=1}^{n}(x_i-E(X))^2 = E(X^2) - (E(X))^2 = 23 - \\frac{169}{25} = \\frac{406}{25} = 16.24$$\n",
    "\n",
    "**(c) Median**\n",
    "\n",
    "The median is the middle value that divides the higher half from the lower half of the dataset. \n",
    "In this context, the median is 2, since the value is in the middle of the ordered dataset {-1, -1, 2, 3, 10}. \n",
    "\n"
   ]
  },
  {
   "cell_type": "markdown",
   "metadata": {},
   "source": [
    "## 5\n",
    "**[8 points]** Review of counting from probability theory. \n",
    "\n",
    "(a) How many different 7-place license plates are possible if the first 3 places only contain letters and the last 4 only contain numbers?\n",
    "\n",
    "\n",
    "(b) How many different batting orders are possible for a baseball team with 9 players?\n",
    "\n",
    "(c) How many batting orders of 5 players are possible for a team with 9 players total?\n",
    "\n",
    "\n",
    "(d) Let's assume this class has 26 students and we want to form project teams. How many unique teams of 3 are possible?\n",
    "\n",
    "\n",
    "*Hint: For each problem, determine if order matters, and if it should be calculated with or without replacement.*"
   ]
  },
  {
   "cell_type": "markdown",
   "metadata": {},
   "source": [
    "**ANSWER**\n",
    "\n",
    "**(a) There are $176760000$ possibilities for the 7-place license plates.**  \n",
    "\n",
    "There are $26 \\times 26 \\times 26 \\times 10 \\times 10 \\times 10 \\times 10 = 175760000$ possibilities, since we randomly choose 3 letters out of 26 letters with replacement and the order of the letters matter. Furthermore, 4 numbers should be randomly chosen from 10 numbers (0-9) with replacement, and the order also matters. Finally, we multiply both the possibilities of the letters and the possibilities of the numbers together. \n",
    "\n",
    "\n",
    "**(b)There are $362880$ possibilities for batting orders for a baseball team with 9 players.**\n",
    "\n",
    "Order matters. This is a permutation without replacement for 9 players. Therefore there are $9! = 362880$ different possibilities.\n",
    "\n",
    "**(c) There are $15120$ possibilities for batting orders of 5 players for a team with 9 players.**\n",
    "\n",
    "Order matters. This is the permutation of 5 players from 9 players without replacement. Therefore, there are $9 \\times 8 \\times 7 \\times 6 \\times 5 = 15120$ different possibilities.\n",
    "\n",
    "**(d) There are $2600$ possibilities for unique teams of 3.**\n",
    "\n",
    "Order does not matter. This is a combination problem without replacement, thus there are ${26 \\choose 3} = 2600$ possibilities for unique teams of 3.\n"
   ]
  },
  {
   "cell_type": "markdown",
   "metadata": {},
   "source": [
    "# Linear Algebra"
   ]
  },
  {
   "cell_type": "markdown",
   "metadata": {},
   "source": [
    "## 6\n",
    "**[7 points]** **Matrix manipulations and multiplication**. Machine learning involves working with many matrices, so this exercise will provide you with the opportunity to practice those skills.\n",
    "\n",
    "Let\n",
    "$\\mathbf{A} =  \\begin{bmatrix}\n",
    "1 & 2 & 3 \\\\\n",
    "2 & 4 & 5 \\\\\n",
    "3 & 5 & 6 \n",
    "\\end{bmatrix}$, $\\mathbf{b} =  \\begin{bmatrix}\n",
    "-1  \\\\\n",
    "3  \\\\\n",
    "8  \n",
    "\\end{bmatrix}$, $\\mathbf{c} =  \\begin{bmatrix}\n",
    "4  \\\\\n",
    "-3  \\\\\n",
    "6  \n",
    "\\end{bmatrix}$, and $\\mathbf{I} =  \\begin{bmatrix}\n",
    "1 & 0 & 0 \\\\\n",
    "0 & 1 & 0 \\\\\n",
    "0 & 0 & 1 \n",
    "\\end{bmatrix}$\n",
    "\n",
    "Compute the following or indicate that it cannot be computed:\n",
    "\n",
    "1. $\\mathbf{A}\\mathbf{A}$\n",
    "2. $\\mathbf{A}\\mathbf{A}^T$\n",
    "3. $\\mathbf{A}\\mathbf{b}$\n",
    "4. $\\mathbf{A}\\mathbf{b}^T$\n",
    "5. $\\mathbf{b}\\mathbf{A}$\n",
    "6. $\\mathbf{b}^T\\mathbf{A}$\n",
    "7. $\\mathbf{b}\\mathbf{b}$\n",
    "8. $\\mathbf{b}^T\\mathbf{b}$\n",
    "9. $\\mathbf{b}\\mathbf{b}^T$\n",
    "10. $\\mathbf{b} + \\mathbf{c}^T$\n",
    "11. $\\mathbf{b}^T\\mathbf{b}^T$\n",
    "12. $\\mathbf{A}^{-1}\\mathbf{b}$\n",
    "13. $\\mathbf{A}\\circ\\mathbf{A}$\n",
    "14. $\\mathbf{b}\\circ\\mathbf{c}$\n",
    "\n",
    "*Note: The element-wise (or Hadamard) product is the product of each element in one matrix with the corresponding element in another matrix, and is represented by the symbol \"$\\circ$\".*"
   ]
  },
  {
   "cell_type": "markdown",
   "metadata": {},
   "source": [
    "**ANSWER**"
   ]
  },
  {
   "cell_type": "code",
   "execution_count": 62,
   "metadata": {},
   "outputs": [
    {
     "name": "stdout",
     "output_type": "stream",
     "text": [
      "1. A @ A = \n",
      "\n",
      " [[14 25 31]\n",
      " [25 45 56]\n",
      " [31 56 70]]\n",
      "\n",
      "\n",
      "2. A @ A.T = \n",
      "\n",
      " [[14 25 31]\n",
      " [25 45 56]\n",
      " [31 56 70]]\n",
      "\n",
      "\n",
      "3. A @ b = \n",
      "\n",
      " [[29]\n",
      " [50]\n",
      " [60]]\n",
      "\n",
      "\n",
      "4.Cannot be calculated.\n",
      "\n",
      " <class 'ValueError'>\n",
      "\n",
      "\n",
      "5.Cannot be calculated.\n",
      "\n",
      " <class 'ValueError'>\n",
      "\n",
      "\n",
      "6. b.T @ A = \n",
      "\n",
      " [[29 50 60]]\n",
      "\n",
      "\n",
      "7.Cannot be calculated.\n",
      "\n",
      " <class 'ValueError'>\n",
      "\n",
      "\n",
      "8. b.T @ b = \n",
      "\n",
      " [[74]]\n",
      "\n",
      "\n",
      "9. b @ b.T = \n",
      "\n",
      " [[ 1 -3 -8]\n",
      " [-3  9 24]\n",
      " [-8 24 64]]\n",
      "\n",
      "\n",
      "10.\n",
      "\n",
      " The vector with shapes (3,1) and The vector with (1,3) cannot be added. \n",
      "\n",
      "11.Cannot be calculated.\n",
      "\n",
      " <class 'ValueError'>\n",
      "\n",
      "\n",
      "12. inv(A) @ b = \n",
      "\n",
      " [[ 6.]\n",
      " [ 4.]\n",
      " [-5.]]\n",
      "\n",
      "\n",
      "13. A * A = \n",
      "\n",
      " [[ 1  4  9]\n",
      " [ 4 16 25]\n",
      " [ 9 25 36]]\n",
      "\n",
      "\n",
      "14. b * c = \n",
      "\n",
      " [[-4]\n",
      " [-9]\n",
      " [48]]\n",
      "\n",
      "\n"
     ]
    }
   ],
   "source": [
    "import numpy as np \n",
    "\n",
    "#creating the arrays\n",
    "A = np.array([\n",
    "    [1,2,3],\n",
    "    [2,4,5],\n",
    "    [3,5,6]])\n",
    "b = np.array([[-1],[3],[8]])\n",
    "c = np.array([[4],[-3],[6]])\n",
    "I = np.eye(3)\n",
    "# 1\n",
    "print(\"1. A @ A = \\n\\n\",np.matmul(A, A), end = '\\n\\n\\n')\n",
    "\n",
    "# 2\n",
    "print(\"2. A @ A.T = \\n\\n\",np.matmul(A, A.T), end = '\\n\\n\\n')\n",
    "\n",
    "# 3\n",
    "print(\"3. A @ b = \\n\\n\",np.matmul(A, b), end = '\\n\\n\\n')\n",
    "\n",
    "\n",
    "# 4\n",
    "try:\n",
    "    print(\"4. A @ b.T = \\n\\n\",np.matmul(A, b.T), end = '\\n\\n\\n')\n",
    "except ValueError:\n",
    "    print(\"4.Cannot be calculated.\\n\\n\", ValueError, end = '\\n\\n\\n')\n",
    "\n",
    "# 5\n",
    "try:\n",
    "    print(\"5. b @ A = \\n\\n\",np.matmul(b, A), end = '\\n\\n\\n')\n",
    "except ValueError:\n",
    "    print(\"5.Cannot be calculated.\\n\\n\", ValueError, end = '\\n\\n\\n')\n",
    "\n",
    "# 6\n",
    "print(\"6. b.T @ A = \\n\\n\",np.matmul(b.T, A), end = '\\n\\n\\n')\n",
    "\n",
    "# 7\n",
    "try:\n",
    "    print(\"7. b @ b = \\n\\n\",np.matmul(b, b), end = '\\n\\n\\n')\n",
    "except ValueError as VE:\n",
    "    print(\"7.Cannot be calculated.\\n\\n\", ValueError, end = '\\n\\n\\n')\n",
    "\n",
    "# 8\n",
    "print(\"8. b.T @ b = \\n\\n\",np.matmul(b.T, b), end = '\\n\\n\\n')\n",
    "\n",
    "# 9\n",
    "print(\"9. b @ b.T = \\n\\n\",np.matmul(b, b.T), end = '\\n\\n\\n')\n",
    "\n",
    "# 10\n",
    "print(\"10.\\n\\n The vector with shapes (3,1) and The vector with (1,3) cannot be added. \\n\")\n",
    "\n",
    "# 11\n",
    "try:\n",
    "    print(\"11. b.T @ b.T = \\n\\n\",np.matmul(b.T, b.T), end = '\\n\\n\\n')\n",
    "except ValueError:\n",
    "    print(\"11.Cannot be calculated.\\n\\n\", ValueError, end = '\\n\\n\\n')\n",
    "    \n",
    "# 12\n",
    "print(\"12. inv(A) @ b = \\n\\n\", np.matmul(np.linalg.inv(A), b), end = '\\n\\n\\n')\n",
    "\n",
    "\n",
    "# 13\n",
    "print(\"13. A * A = \\n\\n\", np.multiply(A,A), end = '\\n\\n\\n')\n",
    "\n",
    "# 14\n",
    "print(\"14. b * c = \\n\\n\", np.multiply(b,c), end = '\\n\\n\\n')\n"
   ]
  },
  {
   "cell_type": "markdown",
   "metadata": {},
   "source": [
    "\n",
    "\n",
    "**1.** \n",
    "$$\\mathbf{AA} =  \\begin{bmatrix}\n",
    "14 & 25 & 31 \\\\\n",
    "25 & 45 & 56 \\\\\n",
    "31 & 56 & 70 \n",
    "\\end{bmatrix}$$\n",
    "\n",
    "\n",
    "**2.** \n",
    "$$\\mathbf{AA^T} =  \\begin{bmatrix}\n",
    "14 & 25 & 31 \\\\\n",
    "25 & 45 & 56 \\\\\n",
    "31 & 56 & 70 \n",
    "\\end{bmatrix}$$\n",
    "\n",
    "**3.**\n",
    "$$\\mathbf{Ab} =  \\begin{bmatrix}\n",
    "29 \\\\\n",
    "50 \\\\\n",
    "60\n",
    "\\end{bmatrix}$$\n",
    "\n",
    "**4.**\n",
    "\n",
    "$\\mathbf{A}\\mathbf{b}^T$ cannot be calculated. \n",
    "\n",
    "**5.** \n",
    "\n",
    "$\\mathbf{b}\\mathbf{A}$ cannot be calculated. \n",
    "\n",
    "**6.**\n",
    "\n",
    "$$\\mathbf{b^TA} =  \\begin{bmatrix}\n",
    "29 & 50 & 60 \n",
    "\\end{bmatrix}$$\n",
    "\n",
    "**7.** \n",
    "\n",
    "$\\mathbf{b}\\mathbf{b}$ cannot be calculated. \n",
    "\n",
    "**8.**\n",
    "\n",
    "$$\\mathbf{b^Tb} =  \\begin{bmatrix}\n",
    "74\n",
    "\\end{bmatrix}$$\n",
    "\n",
    "**9.**\n",
    "\n",
    "$$\\mathbf{bb^T} =  \\begin{bmatrix}\n",
    "1 & -3 & -8 \\\\\n",
    "-3 & 9 & 24 \\\\\n",
    "-8 & 24 & 64 \n",
    "\\end{bmatrix}$$\n",
    "\n",
    "**10.**\n",
    "\n",
    "$\\mathbf{b} + \\mathbf{c}^T$ cannot to be added.\n",
    "\n",
    "**11.**\n",
    "\n",
    "$\\mathbf{b}^T\\mathbf{b}^T$ cannot be calculated.  \n",
    "\n",
    "**12.**\n",
    "\n",
    "$$\\mathbf{A^{-1} b} =  \\begin{bmatrix}\n",
    "6 \\\\\n",
    "4 \\\\\n",
    "-5 \n",
    "\\end{bmatrix}$$\n",
    "\n",
    "**13.**\n",
    "\n",
    "$$\\mathbf{A \\circ\\mathbf{A}} =  \\begin{bmatrix}\n",
    "1 & 4 & 9 \\\\\n",
    "4 & 16 & 25 \\\\\n",
    "9 & 25 & 36 \n",
    "\\end{bmatrix}$$\n",
    "\n",
    "**14.**\n",
    "\n",
    "$$\\mathbf{b \\circ\\mathbf{c}} =  \\begin{bmatrix}\n",
    "-4\\\\\n",
    "-9 \\\\\n",
    "48  \n",
    "\\end{bmatrix}$$"
   ]
  },
  {
   "cell_type": "markdown",
   "metadata": {},
   "source": [
    "## 7\n",
    "**[8 points]** **Eigenvectors and eigenvalues**. Eigenvectors and eigenvalues are useful for some machine learning algorithms, but the concepts take time to solidly grasp. For an intuitive review of these concepts, explore this [interactive website at Setosa.io](http://setosa.io/ev/eigenvectors-and-eigenvalues/). Also, the series of linear algebra videos by Grant Sanderson of 3Brown1Blue are excellent and can be viewed on youtube [here](https://www.youtube.com/playlist?list=PLZHQObOWTQDPD3MizzM2xVFitgF8hE_ab).\n",
    "\n",
    "1. Calculate the eigenvalues and corresponding eigenvectors of matrix $\\mathbf{A}$ above, from the last question.\n",
    "2. Choose one of the eigenvector/eigenvalue pairs, $\\mathbf{v}$ and $\\lambda$, and show that $\\mathbf{A} \\mathbf{v} = \\lambda \\mathbf{v}$. Also show that this relationship extends to higher orders: $\\mathbf{A} \\mathbf{A} \\mathbf{v} = \\lambda^2 \\mathbf{v}$\n",
    "3. Show that the eigenvectors are orthogonal to one another (e.g. their inner product is zero). This is true for real, symmetric matrices."
   ]
  },
  {
   "cell_type": "markdown",
   "metadata": {},
   "source": [
    "**ANSWER**"
   ]
  },
  {
   "cell_type": "markdown",
   "metadata": {},
   "source": [
    "**1. Calculate the eigenvalues and corresponding eigenvectors of matrix $\\mathbf{A}$**"
   ]
  },
  {
   "cell_type": "code",
   "execution_count": 63,
   "metadata": {},
   "outputs": [
    {
     "name": "stdout",
     "output_type": "stream",
     "text": [
      "Eigenvalues are \n",
      "\n",
      " [11.34481428 -0.51572947  0.17091519]\n",
      "\n",
      "Eigenvectors are \n",
      "\n",
      " [[-0.32798528 -0.73697623  0.59100905]\n",
      " [-0.59100905 -0.32798528 -0.73697623]\n",
      " [-0.73697623  0.59100905  0.32798528]]\n",
      "\n"
     ]
    }
   ],
   "source": [
    "from numpy import linalg \n",
    "\n",
    "A = np.array([\n",
    "    [1,2,3],\n",
    "    [2,4,5],\n",
    "    [3,5,6]]) \n",
    "\n",
    "eigenvalues, eigenvectors = np.linalg.eig(A)\n",
    "\n",
    "print(\"Eigenvalues are \\n\\n\", eigenvalues, end = '\\n\\n')\n",
    "print(\"Eigenvectors are \\n\\n\", eigenvectors, end = '\\n\\n')"
   ]
  },
  {
   "cell_type": "markdown",
   "metadata": {},
   "source": [
    "**2. Choose one of the eigenvector/eigenvalue pairs, $\\mathbf{v}$ and $\\lambda$, and show that $\\mathbf{A} \\mathbf{v} = \\lambda \\mathbf{v}$. Also show that this relationship extends to higher orders: $\\mathbf{A} \\mathbf{A} \\mathbf{v} = \\lambda^2 \\mathbf{v}$**"
   ]
  },
  {
   "cell_type": "markdown",
   "metadata": {},
   "source": [
    "Show that $\\mathbf{A} \\mathbf{v} = \\lambda \\mathbf{v}$"
   ]
  },
  {
   "cell_type": "code",
   "execution_count": 64,
   "metadata": {},
   "outputs": [
    {
     "name": "stdout",
     "output_type": "stream",
     "text": [
      "A*v equals to \n",
      "\n",
      " [-3.72093206 -6.70488789 -8.36085845]\n",
      "\n",
      "lambda*v equals to \n",
      "\n",
      " [-3.72093206 -6.70488789 -8.36085845]\n",
      "\n",
      "The above two show that A*v = lambda*v\n"
     ]
    }
   ],
   "source": [
    "eigenvalue_0 = eigenvalues[0]\n",
    "eigenvector_0 = eigenvectors[:,0]\n",
    "\n",
    "print(\"A*v equals to \\n\\n\", np.dot(A, eigenvector_0), end = '\\n\\n') #matrix by vector\n",
    "print(\"lambda*v equals to \\n\\n\", np.dot(eigenvalue_0, eigenvector_0), end = '\\n\\n') #value by vector\n",
    "\n",
    "print(\"The above two show that A*v = lambda*v\")"
   ]
  },
  {
   "cell_type": "markdown",
   "metadata": {},
   "source": [
    "Show that this relationship extends to higher orders: $\\mathbf{A} \\mathbf{A} \\mathbf{v} = \\lambda^2 \\mathbf{v}$"
   ]
  },
  {
   "cell_type": "code",
   "execution_count": 65,
   "metadata": {},
   "outputs": [
    {
     "name": "stdout",
     "output_type": "stream",
     "text": [
      "AA*v equals to \n",
      "\n",
      " [-42.2132832  -76.06570795 -94.85238636]\n",
      "\n",
      "(lambda^2)*v equals to \n",
      "\n",
      " [-42.2132832  -76.06570795 -94.85238636]\n",
      "\n",
      "The above two show that AAv = (lambda^2)*v\n",
      "\n"
     ]
    }
   ],
   "source": [
    "print(\"AA*v equals to \\n\\n\", np.dot(np.dot(A,A), eigenvector_0), end = '\\n\\n') #matrix by vector\n",
    "print(\"(lambda^2)*v equals to \\n\\n\", np.dot((eigenvalue_0**2), eigenvector_0), end = '\\n\\n') #value by vector\n",
    "\n",
    "print(\"The above two show that AAv = (lambda^2)*v\", end = '\\n\\n')\n"
   ]
  },
  {
   "cell_type": "markdown",
   "metadata": {},
   "source": [
    "**3. Show that the eigenvectors are orthogonal to one another**"
   ]
  },
  {
   "cell_type": "code",
   "execution_count": 66,
   "metadata": {},
   "outputs": [
    {
     "name": "stdout",
     "output_type": "stream",
     "text": [
      " The inner products of eigenvectors are: \n",
      "\n",
      "-2.220446049250313e-16\n",
      "\n",
      "-4.440892098500626e-16\n",
      "\n",
      "-1.0547118733938987e-15\n",
      "\n",
      "The above shows the eigenvectors of Matrix A are orthogonal to one another.\n"
     ]
    }
   ],
   "source": [
    "print(\" The inner products of eigenvectors are: \\n\")\n",
    "      \n",
    "for i in range(3):\n",
    "    for j in range(i+1, 3):\n",
    "        print(np.dot(eigenvectors[:, i], eigenvectors[:, j]), end = '\\n\\n')\n",
    "\n",
    "print(\"The above shows the eigenvectors of Matrix A are orthogonal to one another.\")"
   ]
  },
  {
   "cell_type": "markdown",
   "metadata": {},
   "source": [
    "# Numerical Programming"
   ]
  },
  {
   "cell_type": "markdown",
   "metadata": {},
   "source": [
    "## 8\n",
    "**[10 points]** Loading data and gathering insights from a real dataset\n",
    "\n",
    "**Data**. The data for this problem can be found in the `data` subfolder in the `assignments` folder on [github](https://github.com/kylebradbury/ids705). The filename is `egrid2016.xlsx`. This dataset is the Environmental Protection Agency's (EPA) [Emissions & Generation Resource Integrated Database (eGRID)](https://www.epa.gov/energy/emissions-generation-resource-integrated-database-egrid) containing information about all power plants in the United States, the amount of generation they produce, what fuel they use, the location of the plant, and many more quantities. We'll be using a subset of those data.\n",
    "\n",
    "The fields we'll be using include:\t\t\t\t\t\n",
    "    \n",
    "|field    |description|\n",
    "|:-----   |:-----|\n",
    "|SEQPLT16 |eGRID2016 Plant file sequence number (the index)| \n",
    "|PSTATABB |Plant state abbreviation|\n",
    "|PNAME    |Plant name |\n",
    "|LAT      |Plant latitude |\n",
    "|LON      |Plant longitude|\n",
    "|PLPRMFL  |Plant primary fuel |\n",
    "|CAPFAC   |Plant capacity factor |\n",
    "|NAMEPCAP |Plant nameplate capacity (Megawatts MW)|\n",
    "|PLNGENAN |Plant annual net generation (Megawatt-hours MWh)|\n",
    "|PLCO2EQA |Plant annual CO2 equivalent emissions (tons)|\n",
    "\n",
    "For more details on the data, you can refer to the [eGrid technical documents](https://www.epa.gov/sites/production/files/2018-02/documents/egrid2016_technicalsupportdocument_0.pdf). For example, you may want to review page 45 and the section \"Plant Primary Fuel (PLPRMFL)\", which gives the full names of the fuel types including WND for wind, NG for natural gas, BIT for Bituminous coal, etc.\n",
    "\n",
    "There also are a couple of \"gotchas\" to watch out for with this dataset:\n",
    "- The headers are on the second row and you'll want to ignore the first row (they're more detailed descriptions of the headers).\n",
    "- NaN values represent blanks in the data. These will appear regularly in real-world data, so getting experience working with it will be important.\n",
    "\n",
    "**Your objective**. For this dataset, your goal is answer the following questions about electricity generation in the United States:\n",
    "\n",
    "**(a)** Which plant has generated the most energy (measured in MWh)?\n",
    "\n",
    "**(b)** What is the name of the northern-most power plant in the United States?\n",
    "\n",
    "**(c)** What is the state where the northern-most power plant in the United States is located?\n",
    "\n",
    "**(d)** Plot a histogram of the amount of energy produced by each fuel for the plant. \n",
    "\n",
    "**(e)** From the plot in (e), which fuel for generation produces the most energy (MWh) in the United States?"
   ]
  },
  {
   "cell_type": "markdown",
   "metadata": {},
   "source": [
    "**ANSWER**"
   ]
  },
  {
   "cell_type": "code",
   "execution_count": 67,
   "metadata": {},
   "outputs": [
    {
     "name": "stdout",
     "output_type": "stream",
     "text": [
      "(a) The plant that produced the most energy is the Palo Verde plant.\n",
      "(b) The northern-most plant is the Barrow plant.\n",
      "(c) The northern-most plant is in AK.\n"
     ]
    },
    {
     "data": {
      "image/png": "[encoded data removed]",
      "text/plain": [
       "<Figure size 432x288 with 1 Axes>"
      ]
     },
     "metadata": {
      "needs_background": "light"
     },
     "output_type": "display_data"
    },
    {
     "name": "stdout",
     "output_type": "stream",
     "text": [
      "(e) The fuel producing the most energy in the United States is NG.\n"
     ]
    }
   ],
   "source": [
    "import pandas as pd \n",
    "import matplotlib.pyplot as plt\n",
    "\n",
    "#Loading the dataset\n",
    "\n",
    "df = pd.read_excel(\"/Users/Reinhard/egrid2016.xlsx\", header=1) \n",
    "\n",
    "#Locating the power plant generating with the most energy  \n",
    "\n",
    "max_energy_plant = df.loc[df['PLNGENAN'].idxmax()] \n",
    "print('(a) The plant that produced the most energy is the {} plant.'.format(str(max_energy_plant['PNAME'])))\n",
    "\n",
    "#Locating the northern-most power plant\n",
    "\n",
    "northern_most_plant = df.loc[df['LAT'].idxmax()] \n",
    "\n",
    "print('(b) The northern-most plant is the {} plant.'.format(str(northern_most_plant['PNAME'])))\n",
    "\n",
    "print('(c) The northern-most plant is in {}.'.format(str(northern_most_plant['PSTATABB'])))\n",
    "\n",
    "#Plot a histogram of the amount of energy produced by each fuel for the plant \n",
    "\n",
    "# Grouped Energy Generation by fuel types.\n",
    "grouped_by_fuel = df.groupby('PLPRMFL', as_index = False).sum().sort_values('PLNGENAN', ascending=False)  \n",
    "\n",
    "#Retriving fuel types\n",
    "fuel_types = grouped_by_fuel['PLPRMFL'] \n",
    "\n",
    "#Retriving amount of energy generation across different fuel types. \n",
    "energy_generation = grouped_by_fuel['PLNGENAN']  \n",
    "\n",
    "#Plotting\n",
    "plt.bar(fuel_types, energy_generation) \n",
    "plt.xticks(rotation=90)\n",
    "plt.title('Annual Energy Generation by Fuel Types (MWh)')\n",
    "plt.xlabel('Types of Fuel')\n",
    "plt.ylabel('Annual Energy Generation (MWh)')\n",
    "plt.show()\n",
    "\n",
    "#Locating the fuel produces the most energy.\n",
    "\n",
    "max_fuel = grouped_by_fuel.loc[grouped_by_fuel['PLNGENAN'].idxmax()]\n",
    "\n",
    "print('(e) The fuel producing the most energy in the United States is {}.'.format(str(max_fuel['PLPRMFL'])))"
   ]
  },
  {
   "cell_type": "markdown",
   "metadata": {},
   "source": [
    "\n",
    "## 9\n",
    "**[8 points]** Speed comparison between vectorized and non-vectorized code. Begin by creating an array of 10 million random numbers using the numpy random.randn module. Compute the sum of the squares first in a for loop, then using Numpy's `dot` module. Time how long it takes to compute each and report the results and report the output. How many times faster is the vectorized code than the for loop approach?\n",
    "\n",
    "*Note: all code should be well commented, properly formatted, and your answers should be output using the `print()` function as follows (where the # represents your answers, to a reasonable precision):\n",
    "\n",
    "`Time [sec] (non-vectorized): ######`\n",
    "\n",
    "`Time [sec] (vectorized):     ######`\n",
    "\n",
    "`The vectorized code is ##### times faster than the vectorized code`"
   ]
  },
  {
   "cell_type": "markdown",
   "metadata": {},
   "source": [
    "**ANSWER**"
   ]
  },
  {
   "cell_type": "code",
   "execution_count": 68,
   "metadata": {},
   "outputs": [
    {
     "name": "stdout",
     "output_type": "stream",
     "text": [
      "Time [sec] (non-vectorized): 6.6930\n",
      "Time [sec] (vectorized):     0.0053\n",
      "The vectorized code is 1272.21 times faster than the non-vectorized code\n"
     ]
    }
   ],
   "source": [
    "import numpy as np\n",
    "import time\n",
    "\n",
    "# Generating the array asked in the question.\n",
    "ran_arr = np.random.randn(10000000)\n",
    "\n",
    "# Calculating the sum of squares by looping\n",
    "start_time1 = time.time()\n",
    "total1 = 0\n",
    "for i in ran_arr:\n",
    "    total1 += i**2\n",
    "end_time1 = time.time()\n",
    "\n",
    "# Calculating the sum of squares by using vectorization \n",
    "start_time2 = time.time()\n",
    "total2 = np.dot(ran_arr, ran_arr)\n",
    "end_time2 = time.time()\n",
    "\n",
    "# Print the results\n",
    "print(\"Time [sec] (non-vectorized): %.4f\" % (end_time1 - start_time1))\n",
    "print(\"Time [sec] (vectorized):     %.4f\" % (end_time2 - start_time2))\n",
    "print(\"The vectorized code is %3.2f times faster than the non-vectorized code\" % ((end_time1 - start_time1)/(end_time2 - start_time2)))"
   ]
  },
  {
   "cell_type": "markdown",
   "metadata": {},
   "source": [
    "## 10\n",
    "**[10 points]** One popular Agile development framework is Scrum (a paradigm recommended for data science projects). It emphasizes the continual evolution of code for projects, becoming progressively better, but starting with a quickly developed minimum viable product. This often means that code written early on is not optimized, and that's a good thing - it's best to get it to work first before optimizing. Imagine that you wrote the following code during a sprint towards getting an end-to-end system working. Vectorize the following code and show the difference in speed between the current implementation and a vectorized version.\n",
    "\n",
    "The function below computes the function $f(x,y) = x^2 - 2 y^2$ and determines whether this quantity is above or below a given threshold, `thresh=0`. This is done for $x,y \\in \\{-4,4\\}$, over a 2,000-by-2,000 grid covering that domain.\n",
    "\n",
    "(a) Vectorize this code and demonstrate (as in the last exercise) the speed increase through vectorization and (b) plot the resulting data - both the function $f(x,y)$ and the thresholded output - using [`imshow`](https://matplotlib.org/api/_as_gen/matplotlib.pyplot.imshow.html?highlight=matplotlib%20pyplot%20imshow#matplotlib.pyplot.imshow) from `matplotlib`.\n",
    "\n",
    "*Hint: look at the `numpy` [`meshgrid`](https://docs.scipy.org/doc/numpy-1.13.0/reference/generated/numpy.meshgrid.html) documentation*"
   ]
  },
  {
   "cell_type": "markdown",
   "metadata": {},
   "source": [
    "**ANSWER**"
   ]
  },
  {
   "cell_type": "code",
   "execution_count": 69,
   "metadata": {},
   "outputs": [
    {
     "name": "stdout",
     "output_type": "stream",
     "text": [
      "Time [sec] (non-vectorized): 11.0507\n",
      "Time [sec] (vectorized):     0.1236\n",
      "The vectorized code is 89.4 times faster than the non-vectorized code\n"
     ]
    },
    {
     "data": {
      "image/png": "[encoded data removed]",
      "text/plain": [
       "<Figure size 432x288 with 2 Axes>"
      ]
     },
     "metadata": {
      "needs_background": "light"
     },
     "output_type": "display_data"
    }
   ],
   "source": [
    "import numpy as np\n",
    "import time\n",
    "import matplotlib.pyplot as plt\n",
    "\n",
    "nvalues = 2000\n",
    "xvalues = np.linspace(-4,4,nvalues)\n",
    "yvalues = np.linspace(-4,4,nvalues)\n",
    "thresh  = 0\n",
    "\n",
    "# Nonvectorized implementation\n",
    "\n",
    "t0 = time.time()\n",
    "f = np.zeros((nvalues,nvalues))\n",
    "f_thresholded = np.zeros((nvalues,nvalues))\n",
    "for ix, x in enumerate(xvalues):\n",
    "    for iy, y in enumerate(yvalues):\n",
    "        f[ix,iy]             = x**2 - 2 * y**2\n",
    "        f_thresholded[ix,iy] = f[ix,iy] > thresh\n",
    "t1 = time.time()\n",
    "time_nonvectorized = t1 - t0\n",
    "\n",
    "# Vectorized implementation\n",
    "\n",
    "t0_vector = time.time() \n",
    "\n",
    "#Create matrix by using meshgrid\n",
    "\n",
    "X, Y = np.meshgrid(xvalues, yvalues) \n",
    "\n",
    "# Calculating Z by matrices computation. \n",
    "\n",
    "Z = np.multiply(X, X) - 2 * np.multiply(Y,Y) \n",
    "\n",
    "Z_thresh = np.greater(Z,thresh)\n",
    "\n",
    "t1_vector = time.time()\n",
    "\n",
    "time_vectorized = t1_vector-t0_vector \n",
    "\n",
    "# Vectorized speed performance results\n",
    "\n",
    "print(\"Time [sec] (non-vectorized): %.4f\" % time_nonvectorized)\n",
    "print(\"Time [sec] (vectorized):     %.4f\" % time_vectorized)\n",
    "print(\"The vectorized code is %3.1f times faster than the non-vectorized code\" % (time_nonvectorized/time_vectorized))\n",
    "\n",
    "#Plot the function f(x, y)\n",
    "\n",
    "#Creating figure to hold both graphs.\n",
    "\n",
    "fig, axs = plt.subplots(1, 2, constrained_layout=True) \n",
    "axs[0].set_title('Function Output')\n",
    "axs[0].imshow(Z, origin='lower') #set origin at 0,0\n",
    "axs[0].set_xlabel('X')\n",
    "axs[0].set_ylabel('Y')\n",
    "fig.suptitle('Plot the Resulting Data', fontsize=18) \n",
    "\n",
    "axs[1].set_title('Thresholded Output')\n",
    "axs[1].imshow(Z_thresh, origin='lower')\n",
    "axs[1].set_xlabel('X')\n",
    "axs[1].set_ylabel('Y')\n",
    "\n",
    "plt.show()\n",
    "\n"
   ]
  },
  {
   "cell_type": "markdown",
   "metadata": {},
   "source": [
    "## 11\n",
    "**[10 points]** This exercise will walk through some basic numerical programming exercises.\n",
    "1. Synthesize $n=10^4$ normally distributed data points with mean $\\mu=2$ and a standard deviation of $\\sigma=1$. Call these observations from a random variable $X$, and call the vector of observations that you generate, $\\textbf{x}$.\n",
    "2. Calculate the mean and standard deviation of $\\textbf{x}$ to validate (1) and provide the result to a precision of four significant figures.\n",
    "3. Plot a histogram of the data in $\\textbf{x}$ with 30 bins\n",
    "4. What is the 90th percentile of $\\textbf{x}$? The 90th percentile is the value below which 90% of observations can be found.\n",
    "5. What is the 99th percentile of $\\textbf{x}$?\n",
    "6. Now synthesize $n=10^4$ normally distributed data points with mean $\\mu=0$ and a standard deviation of $\\sigma=3$. Call these observations from a random variable $Y$, and call the vector of observations that you generate, $\\textbf{y}$.\n",
    "7. Create a new figure and plot the histogram of the data in $\\textbf{y}$ on the same axes with the histogram of $\\textbf{x}$, so that both histograms can be seen and compared.\n",
    "8. Using the observations from $\\textbf{x}$ and $\\textbf{y}$, estimate $E[XY]$"
   ]
  },
  {
   "cell_type": "markdown",
   "metadata": {},
   "source": [
    "**ANSWER**"
   ]
  },
  {
   "cell_type": "code",
   "execution_count": 70,
   "metadata": {},
   "outputs": [
    {
     "name": "stdout",
     "output_type": "stream",
     "text": [
      "The mean of x is:\t\t 1.991\n",
      "The standard deviation of x is\t 1.004\n"
     ]
    },
    {
     "data": {
      "image/png": "[encoded data removed]",
      "text/plain": [
       "<Figure size 432x288 with 1 Axes>"
      ]
     },
     "metadata": {
      "needs_background": "light"
     },
     "output_type": "display_data"
    },
    {
     "name": "stdout",
     "output_type": "stream",
     "text": [
      "The 90th percentile of the data x is 3.287.\n",
      "The 99th percentile of the data x is 4.346.\n"
     ]
    },
    {
     "data": {
      "image/png": "[encoded data removed]",
      "text/plain": [
       "<Figure size 432x288 with 1 Axes>"
      ]
     },
     "metadata": {
      "needs_background": "light"
     },
     "output_type": "display_data"
    },
    {
     "name": "stdout",
     "output_type": "stream",
     "text": [
      "The estimated value of XY is 0.008 \n"
     ]
    }
   ],
   "source": [
    "import numpy as np\n",
    "import matplotlib.pyplot as plt\n",
    "%matplotlib inline\n",
    "\n",
    "# 1. Generating normally distributed data points \n",
    "\n",
    "x = np.random.normal(2, 1, 10000)\n",
    "\n",
    "# 2. Calculating mean and standard deviation with mean 2 and standard deviation 1\n",
    "print('The mean of x is:\\t\\t %1.3f' % np.mean(x))  \n",
    "print('The standard deviation of x is\\t %1.3f' % np.std(x))\n",
    "\n",
    "# 3. Plotting histogram\n",
    "plt.hist(x, bins=30)\n",
    "plt.title('Histogram of x')\n",
    "plt.show()\n",
    "\n",
    "# 4. Calculating 90th percentile of x\n",
    "\n",
    "print('The 90th percentile of the data x is %1.3f.' % np.percentile(x, 90))\n",
    "\n",
    "\n",
    "# 5.Calculating 99th percentile of x\n",
    "\n",
    "print('The 99th percentile of the data x is %1.3f.' % np.percentile(x, 99))\n",
    "\n",
    "# 6. Generating normally distributed data points with mean 0 and standard deviation 3.\n",
    "\n",
    "y = np.random.normal(0, 3, 10000)\n",
    "\n",
    "# 7. Plotting both histograms on the same figure. \n",
    "\n",
    "plt.figure()\n",
    "plt.title(\"Histogram of x and y\")\n",
    "#plt.hist(y, bins = 30, alpha = 0.6, color = 'orange', label = 'y')\n",
    "#plt.hist(x, bins = 30, alpha = 0.6, label = 'x')\n",
    "plt.hist([x, y], bins = 30, alpha = 0.6, label = ['x', 'y'])\n",
    "plt.legend()\n",
    "plt.show()\n",
    "\n",
    "# 8. Evaluating E[XY]. \n",
    "\n",
    "print(\"The estimated value of XY is %1.3f \" % np.mean(x*y))\n",
    "\n",
    " "
   ]
  },
  {
   "cell_type": "markdown",
   "metadata": {},
   "source": [
    "# Version Control via Git"
   ]
  },
  {
   "cell_type": "markdown",
   "metadata": {},
   "source": [
    "\n",
    "\n",
    "## 12\n",
    "**[1 point]** You will need to use Git to submit assignments and in the course projects and is generally a version control and collaboration tool. You can even use some Git repositories (e.g. Github) as hosts for website, such as with the [course website](https://kylebradbury.github.io/ids705/index.html). \n",
    "\n",
    "Complete the [Atlassian Git tutorial](https://www.atlassian.com/git/tutorials/what-is-version-control), specifically the following listed sections. Try each concept that's presented. For this tutorial, instead of using BitBucket as your remote repository host, you may use your preferred platform such as [Github](https://github.com/) or [Duke's Gitlab](https://gitlab.oit.duke.edu/users/sign_in).\n",
    "1. [What is version control](https://www.atlassian.com/git/tutorials/what-is-version-control)\n",
    "2. [What is Git](https://www.atlassian.com/git/tutorials/what-is-git)\n",
    "3. [Install Git](https://www.atlassian.com/git/tutorials/install-git)\n",
    "4. [Setting up a repository](https://www.atlassian.com/git/tutorials/install-git)\n",
    "5. [Saving changes](https://www.atlassian.com/git/tutorials/saving-changes)\n",
    "6. [Inspecting a repository](https://www.atlassian.com/git/tutorials/inspecting-a-repository)\n",
    "7. [Undoing changes](https://www.atlassian.com/git/tutorials/undoing-changes)\n",
    "8. [Rewriting history](https://www.atlassian.com/git/tutorials/rewriting-history)\n",
    "9. [Syncing](https://www.atlassian.com/git/tutorials/syncing)\n",
    "10. [Making a pull request](https://www.atlassian.com/git/tutorials/making-a-pull-request)\n",
    "11. [Using branches](https://www.atlassian.com/git/tutorials/using-branches)\n",
    "12. [Comparing workflows](https://www.atlassian.com/git/tutorials/comparing-workflows)\n",
    "\n",
    "I also have created two videos on the topic to help you understand some of these concepts: [Git basics](https://www.youtube.com/watch?v=fBCwfoBr2ng) and a [step-by-step tutorial](https://www.youtube.com/watch?v=nH7qJHx-h5s).\n",
    "\n",
    "For your answer, affirm that you *either* completed the tutorial or have previous experience with all of the concepts above. Do this by typing your name below and selecting the situation that applies from the two options in brackets."
   ]
  },
  {
   "cell_type": "markdown",
   "metadata": {},
   "source": [
    "\n",
    "**ANSWER**\n",
    "\n",
    "*I, [**Zhenxing Xie**], affirm that I have [**I have previous experience that covers all the content in this tutorial**]*"
   ]
  },
  {
   "cell_type": "markdown",
   "metadata": {},
   "source": [
    "# Exploratory Data Analysis\n",
    "## 13\n",
    "**[20 points]** Here you'll bring together some of the individual skills that you demonstrated above and create a Jupyter notebook based blog post on data analysis.\n",
    "\n",
    "1. Find a dataset that interests you and relates to a question or problem that you find intriguing\n",
    "2. Using a Jupyter notebook, describe the dataset, the source of the data, and the reason the dataset was of interest.\n",
    "3. Check the data and see if they need to be cleaned: are there missing values? Are there clearly erroneous values? Do two tables need to be merged together? Clean the data so it can be visualized.\n",
    "3. Plot the data, demonstrating interesting features that you discover. Are there any relationships between variables that were surprising or patterns that emerged? Please exercise creativity and curiosity in your plots.\n",
    "4. What insights are you able to take away from exploring the data? Is there a reason why analyzing the dataset you chose is particularly interesting or important? Summarize this as if your target audience was the readership of a major news organization - boil down your findings in a way that is accessible, but still accurate.\n",
    "\n",
    "Here your analysis will evaluated based on:\n",
    "1. Data cleaning: did you look for and work to resolve issues in the data?\n",
    "2. Quality of data exploration: did you provide plots demonstrating interesting aspects of the data?\n",
    "3. Interpretation: Did you clearly explain your insights? Restating the data, alone, is not interpretation.\n",
    "5. Professionalism: Was this work done in a way that exhibits professionalism through clarity, organization, high quality figures and plots, and meaningful descriptions?"
   ]
  },
  {
   "cell_type": "markdown",
   "metadata": {},
   "source": [
    "**ANSWER**"
   ]
  },
  {
   "cell_type": "markdown",
   "metadata": {},
   "source": [
    "# Housing Prices Exploration on Beijing"
   ]
  },
  {
   "cell_type": "markdown",
   "metadata": {},
   "source": [
    "## Introduction"
   ]
  },
  {
   "cell_type": "markdown",
   "metadata": {},
   "source": [
    "#### In this section, I will try to examine the potential factors which exerted influences on housing prices in Beijing. Specifically, I have scraped the data from the website of the largest housing agency which covers over 60% deals of housing in the megacity, and it includes several metrics regarding the housing transactions for the past 8 years with thousands of communities. And then I will preprocess the dataset and conduct exploratory data analysis to unveil what data is telling. "
   ]
  },
  {
   "cell_type": "markdown",
   "metadata": {},
   "source": [
    "## Data Preprocessing"
   ]
  },
  {
   "cell_type": "markdown",
   "metadata": {},
   "source": [
    "### Loading the dataset"
   ]
  },
  {
   "cell_type": "code",
   "execution_count": 71,
   "metadata": {},
   "outputs": [
    {
     "name": "stdout",
     "output_type": "stream",
     "text": [
      "/Users/Reinhard/IDS705_Principles-of-Machine-Learning\n"
     ]
    },
    {
     "data": {
      "text/html": [
       "<div>\n",
       "<style scoped>\n",
       "    .dataframe tbody tr th:only-of-type {\n",
       "        vertical-align: middle;\n",
       "    }\n",
       "\n",
       "    .dataframe tbody tr th {\n",
       "        vertical-align: top;\n",
       "    }\n",
       "\n",
       "    .dataframe thead th {\n",
       "        text-align: right;\n",
       "    }\n",
       "</style>\n",
       "<table border=\"1\" class=\"dataframe\">\n",
       "  <thead>\n",
       "    <tr style=\"text-align: right;\">\n",
       "      <th></th>\n",
       "      <th>Unnamed: 0</th>\n",
       "      <th>Housing ID</th>\n",
       "      <th>Livable Area</th>\n",
       "      <th>Price/Square Meter</th>\n",
       "      <th>Price</th>\n",
       "      <th>Transaction Date</th>\n",
       "      <th>Year Built</th>\n",
       "      <th>Floor Plan</th>\n",
       "      <th>Facing Direction</th>\n",
       "      <th>Floor</th>\n",
       "      <th>Decoration</th>\n",
       "    </tr>\n",
       "  </thead>\n",
       "  <tbody>\n",
       "    <tr>\n",
       "      <th>0</th>\n",
       "      <td>1</td>\n",
       "      <td>中关村南大街甲3号 2室1厅 56.3平米</td>\n",
       "      <td>56.3平米</td>\n",
       "      <td>38544.0</td>\n",
       "      <td>217.0</td>\n",
       "      <td>2015-05-08</td>\n",
       "      <td>1965年建板楼</td>\n",
       "      <td>2室1厅</td>\n",
       "      <td>南 北</td>\n",
       "      <td>低楼层(共3层)</td>\n",
       "      <td>简装</td>\n",
       "    </tr>\n",
       "    <tr>\n",
       "      <th>1</th>\n",
       "      <td>2</td>\n",
       "      <td>中关村南大街甲3号 2室1厅 55.1平米</td>\n",
       "      <td>55.1平米</td>\n",
       "      <td>33667.0</td>\n",
       "      <td>185.5</td>\n",
       "      <td>2012-04-10</td>\n",
       "      <td>1965年建板楼</td>\n",
       "      <td>2室1厅</td>\n",
       "      <td>南 北</td>\n",
       "      <td>底层(共3层)</td>\n",
       "      <td>其他</td>\n",
       "    </tr>\n",
       "    <tr>\n",
       "      <th>2</th>\n",
       "      <td>3</td>\n",
       "      <td>民族大学南路19号院 2室1厅 70平米</td>\n",
       "      <td>70平米</td>\n",
       "      <td>91429.0</td>\n",
       "      <td>640.0</td>\n",
       "      <td>2019-04-19</td>\n",
       "      <td>1993年建板塔结合</td>\n",
       "      <td>2室1厅</td>\n",
       "      <td>南</td>\n",
       "      <td>中楼层(共15层)</td>\n",
       "      <td>简装</td>\n",
       "    </tr>\n",
       "    <tr>\n",
       "      <th>3</th>\n",
       "      <td>4</td>\n",
       "      <td>民族大学南路19号院 2室1厅 98.49平米</td>\n",
       "      <td>98.49平米</td>\n",
       "      <td>102752.0</td>\n",
       "      <td>1012.0</td>\n",
       "      <td>2019-04-07</td>\n",
       "      <td>2000年建塔楼</td>\n",
       "      <td>2室1厅</td>\n",
       "      <td>南</td>\n",
       "      <td>高楼层(共18层)</td>\n",
       "      <td>简装</td>\n",
       "    </tr>\n",
       "    <tr>\n",
       "      <th>4</th>\n",
       "      <td>5</td>\n",
       "      <td>民族大学南路19号院 2室1厅 60.7平米</td>\n",
       "      <td>60.7平米</td>\n",
       "      <td>98847.0</td>\n",
       "      <td>600.0</td>\n",
       "      <td>2019-02-22</td>\n",
       "      <td>1991年建板塔结合</td>\n",
       "      <td>2室1厅</td>\n",
       "      <td>南</td>\n",
       "      <td>高楼层(共16层)</td>\n",
       "      <td>其他</td>\n",
       "    </tr>\n",
       "  </tbody>\n",
       "</table>\n",
       "</div>"
      ],
      "text/plain": [
       "   Unnamed: 0               Housing ID Livable Area  Price/Square Meter  \\\n",
       "0           1    中关村南大街甲3号 2室1厅 56.3平米       56.3平米             38544.0   \n",
       "1           2    中关村南大街甲3号 2室1厅 55.1平米       55.1平米             33667.0   \n",
       "2           3     民族大学南路19号院 2室1厅 70平米         70平米             91429.0   \n",
       "3           4  民族大学南路19号院 2室1厅 98.49平米      98.49平米            102752.0   \n",
       "4           5   民族大学南路19号院 2室1厅 60.7平米       60.7平米             98847.0   \n",
       "\n",
       "    Price Transaction Date  Year Built Floor Plan Facing Direction      Floor  \\\n",
       "0   217.0       2015-05-08    1965年建板楼       2室1厅              南 北   低楼层(共3层)   \n",
       "1   185.5       2012-04-10    1965年建板楼       2室1厅              南 北    底层(共3层)   \n",
       "2   640.0       2019-04-19  1993年建板塔结合       2室1厅                南  中楼层(共15层)   \n",
       "3  1012.0       2019-04-07    2000年建塔楼       2室1厅                南  高楼层(共18层)   \n",
       "4   600.0       2019-02-22  1991年建板塔结合       2室1厅                南  高楼层(共16层)   \n",
       "\n",
       "  Decoration  \n",
       "0         简装  \n",
       "1         其他  \n",
       "2         简装  \n",
       "3         简装  \n",
       "4         其他  "
      ]
     },
     "execution_count": 71,
     "metadata": {},
     "output_type": "execute_result"
    }
   ],
   "source": [
    "import pandas as pd\n",
    "import os  \n",
    "import numpy as np\n",
    "from numpy import nan as NaN\n",
    "import matplotlib.pyplot as plt\n",
    "import matplotlib\n",
    "import seaborn as sns\n",
    "\n",
    "cwd = os.getcwd()\n",
    "print(cwd)\n",
    "\n",
    "df = pd.read_csv(\"/Users/Reinhard/Documents/Duke_Data Science/Spring 2021/705/Assignments/raw_haidian.csv\")\n",
    "df.head()"
   ]
  },
  {
   "cell_type": "markdown",
   "metadata": {},
   "source": [
    "### Checking Data Types"
   ]
  },
  {
   "cell_type": "code",
   "execution_count": 72,
   "metadata": {},
   "outputs": [
    {
     "data": {
      "text/plain": [
       "Unnamed: 0              int64\n",
       "Housing ID             object\n",
       "Livable Area           object\n",
       "Price/Square Meter    float64\n",
       "Price                 float64\n",
       "Transaction Date       object\n",
       "Year Built             object\n",
       "Floor Plan             object\n",
       "Facing Direction       object\n",
       "Floor                  object\n",
       "Decoration             object\n",
       "dtype: object"
      ]
     },
     "execution_count": 72,
     "metadata": {},
     "output_type": "execute_result"
    }
   ],
   "source": [
    "df.dtypes"
   ]
  },
  {
   "cell_type": "markdown",
   "metadata": {},
   "source": [
    "### Target Description\n",
    "\n",
    "**Price/Square Meter**: Housing transaction price in RMB per square meter"
   ]
  },
  {
   "cell_type": "markdown",
   "metadata": {},
   "source": [
    "### Features Description\n",
    "**Housing ID**: Community Name + Floor Plan + Living Area\n",
    "\n",
    "**Livable Area**: Living area of a house in square meter\n",
    "\n",
    "**Price**: Total transaction price for a house\n",
    "\n",
    "**Transaction Date**: year-month-date\n",
    "\n",
    "**Year Built**: The year of a house established\n",
    "\n",
    "**Floor Plan**: Number of bedrooms and living rooms\n",
    "\n",
    "**Facing Direction**: Which direction a house is facing\n",
    "\n",
    "**Floor**: High/Medium/Low/Basement\n",
    "\n",
    "**Decoration**: Simple/Refined"
   ]
  },
  {
   "cell_type": "markdown",
   "metadata": {},
   "source": [
    "### Checking Missing Data"
   ]
  },
  {
   "cell_type": "code",
   "execution_count": 73,
   "metadata": {},
   "outputs": [
    {
     "data": {
      "text/plain": [
       "Unnamed: 0             0\n",
       "Housing ID             0\n",
       "Livable Area           0\n",
       "Price/Square Meter     0\n",
       "Price                  0\n",
       "Transaction Date       0\n",
       "Year Built             0\n",
       "Floor Plan             0\n",
       "Facing Direction      62\n",
       "Floor                  0\n",
       "Decoration             0\n",
       "dtype: int64"
      ]
     },
     "execution_count": 73,
     "metadata": {},
     "output_type": "execute_result"
    }
   ],
   "source": [
    "df.isnull().sum(axis=0)"
   ]
  },
  {
   "cell_type": "markdown",
   "metadata": {},
   "source": [
    "### Taking a deeper look at Missing Data"
   ]
  },
  {
   "cell_type": "code",
   "execution_count": 74,
   "metadata": {},
   "outputs": [
    {
     "data": {
      "text/html": [
       "<div>\n",
       "<style scoped>\n",
       "    .dataframe tbody tr th:only-of-type {\n",
       "        vertical-align: middle;\n",
       "    }\n",
       "\n",
       "    .dataframe tbody tr th {\n",
       "        vertical-align: top;\n",
       "    }\n",
       "\n",
       "    .dataframe thead th {\n",
       "        text-align: right;\n",
       "    }\n",
       "</style>\n",
       "<table border=\"1\" class=\"dataframe\">\n",
       "  <thead>\n",
       "    <tr style=\"text-align: right;\">\n",
       "      <th></th>\n",
       "      <th>Unnamed: 0</th>\n",
       "      <th>Housing ID</th>\n",
       "      <th>Livable Area</th>\n",
       "      <th>Price/Square Meter</th>\n",
       "      <th>Price</th>\n",
       "      <th>Transaction Date</th>\n",
       "      <th>Year Built</th>\n",
       "      <th>Floor Plan</th>\n",
       "      <th>Facing Direction</th>\n",
       "      <th>Floor</th>\n",
       "      <th>Decoration</th>\n",
       "    </tr>\n",
       "  </thead>\n",
       "  <tbody>\n",
       "    <tr>\n",
       "      <th>620</th>\n",
       "      <td>621</td>\n",
       "      <td>万寿寺北里 3室1厅1卫</td>\n",
       "      <td>56.9平米</td>\n",
       "      <td>77153.0</td>\n",
       "      <td>439.0</td>\n",
       "      <td>2017-03-11</td>\n",
       "      <td>暂无信息</td>\n",
       "      <td>3室1厅</td>\n",
       "      <td>NaN</td>\n",
       "      <td>暂无信息</td>\n",
       "      <td>暂无信息</td>\n",
       "    </tr>\n",
       "    <tr>\n",
       "      <th>4222</th>\n",
       "      <td>4223</td>\n",
       "      <td>公交党校宿舍 2室1厅1卫</td>\n",
       "      <td>67.81平米</td>\n",
       "      <td>68869.0</td>\n",
       "      <td>467.0</td>\n",
       "      <td>2018-05-01</td>\n",
       "      <td>暂无信息</td>\n",
       "      <td>2室1厅</td>\n",
       "      <td>NaN</td>\n",
       "      <td>暂无信息</td>\n",
       "      <td>暂无信息</td>\n",
       "    </tr>\n",
       "    <tr>\n",
       "      <th>5097</th>\n",
       "      <td>5098</td>\n",
       "      <td>永泰东里 3室1厅1卫</td>\n",
       "      <td>70.98平米</td>\n",
       "      <td>62835.0</td>\n",
       "      <td>446.0</td>\n",
       "      <td>2018-08-13</td>\n",
       "      <td>暂无信息</td>\n",
       "      <td>3室1厅</td>\n",
       "      <td>NaN</td>\n",
       "      <td>暂无信息</td>\n",
       "      <td>暂无信息</td>\n",
       "    </tr>\n",
       "    <tr>\n",
       "      <th>5128</th>\n",
       "      <td>5129</td>\n",
       "      <td>永泰东里 1室1厅1卫</td>\n",
       "      <td>58.91平米</td>\n",
       "      <td>60771.0</td>\n",
       "      <td>358.0</td>\n",
       "      <td>2018-05-01</td>\n",
       "      <td>暂无信息</td>\n",
       "      <td>1室1厅</td>\n",
       "      <td>NaN</td>\n",
       "      <td>暂无信息</td>\n",
       "      <td>暂无信息</td>\n",
       "    </tr>\n",
       "    <tr>\n",
       "      <th>5848</th>\n",
       "      <td>5849</td>\n",
       "      <td>后屯路32号院 2室1厅1卫</td>\n",
       "      <td>60.49平米</td>\n",
       "      <td>67780.0</td>\n",
       "      <td>410.0</td>\n",
       "      <td>2017-07-17</td>\n",
       "      <td>暂无信息</td>\n",
       "      <td>2室1厅</td>\n",
       "      <td>NaN</td>\n",
       "      <td>暂无信息</td>\n",
       "      <td>暂无信息</td>\n",
       "    </tr>\n",
       "  </tbody>\n",
       "</table>\n",
       "</div>"
      ],
      "text/plain": [
       "      Unnamed: 0      Housing ID Livable Area  Price/Square Meter  Price  \\\n",
       "620          621    万寿寺北里 3室1厅1卫       56.9平米             77153.0  439.0   \n",
       "4222        4223   公交党校宿舍 2室1厅1卫      67.81平米             68869.0  467.0   \n",
       "5097        5098     永泰东里 3室1厅1卫      70.98平米             62835.0  446.0   \n",
       "5128        5129     永泰东里 1室1厅1卫      58.91平米             60771.0  358.0   \n",
       "5848        5849  后屯路32号院 2室1厅1卫      60.49平米             67780.0  410.0   \n",
       "\n",
       "     Transaction Date Year Built Floor Plan Facing Direction Floor Decoration  \n",
       "620        2017-03-11       暂无信息       3室1厅              NaN  暂无信息       暂无信息  \n",
       "4222       2018-05-01       暂无信息       2室1厅              NaN  暂无信息       暂无信息  \n",
       "5097       2018-08-13       暂无信息       3室1厅              NaN  暂无信息       暂无信息  \n",
       "5128       2018-05-01       暂无信息       1室1厅              NaN  暂无信息       暂无信息  \n",
       "5848       2017-07-17       暂无信息       2室1厅              NaN  暂无信息       暂无信息  "
      ]
     },
     "execution_count": 74,
     "metadata": {},
     "output_type": "execute_result"
    }
   ],
   "source": [
    "df[df.isna().T.any()].head()"
   ]
  },
  {
   "cell_type": "markdown",
   "metadata": {},
   "source": [
    "**Notes: From the above table, I found that there are unidentified missing data which are expressed as \"暂无信息\" in addition to \"NaN\". Therefore, I should replace \"暂无信息\" with \"NaN\", However, since I just had a snapshot for a few data points, I will go over columns one by one to examine what exact happen in those columns.**"
   ]
  },
  {
   "cell_type": "markdown",
   "metadata": {},
   "source": [
    "### Checking Column: Decoration"
   ]
  },
  {
   "cell_type": "code",
   "execution_count": 75,
   "metadata": {},
   "outputs": [
    {
     "data": {
      "text/plain": [
       "精装      26202\n",
       "简装      21363\n",
       "其他      20922\n",
       "暂无信息     2940\n",
       "毛坯       1008\n",
       "Name: Decoration, dtype: int64"
      ]
     },
     "execution_count": 75,
     "metadata": {},
     "output_type": "execute_result"
    }
   ],
   "source": [
    "# Checking value classes and values distribution\n",
    "\n",
    "df['Decoration'].value_counts()"
   ]
  },
  {
   "cell_type": "code",
   "execution_count": 76,
   "metadata": {},
   "outputs": [],
   "source": [
    "# Rephrasing value classes and including unidentified missing data \"暂无信息\"\n",
    "\n",
    "df.loc[df['Decoration'] == '毛坯' , 'Decoration'] = 'bare'\n",
    "df.loc[df['Decoration'] == '简装' , 'Decoration'] = 'simple'\n",
    "df.loc[df['Decoration'] == '精装' , 'Decoration'] = 'refined'\n",
    "df.loc[df['Decoration'] == '其他' , 'Decoration'] = 'other'\n",
    "df.loc[df['Decoration'] == '暂无信息' , 'Decoration'] = NaN"
   ]
  },
  {
   "cell_type": "code",
   "execution_count": 77,
   "metadata": {},
   "outputs": [
    {
     "data": {
      "text/plain": [
       "Unnamed: 0               0\n",
       "Housing ID               0\n",
       "Livable Area             0\n",
       "Price/Square Meter       0\n",
       "Price                    0\n",
       "Transaction Date         0\n",
       "Year Built               0\n",
       "Floor Plan               0\n",
       "Facing Direction        62\n",
       "Floor                    0\n",
       "Decoration            2940\n",
       "dtype: int64"
      ]
     },
     "execution_count": 77,
     "metadata": {},
     "output_type": "execute_result"
    }
   ],
   "source": [
    "# Checking missing values in this column\n",
    "df.isnull().sum()"
   ]
  },
  {
   "cell_type": "markdown",
   "metadata": {},
   "source": [
    "**Notes: We see that there are 2940 missing values added by including the unidentified missing data \"暂无信息\".**"
   ]
  },
  {
   "cell_type": "markdown",
   "metadata": {},
   "source": [
    "### Checking Column: Floor"
   ]
  },
  {
   "cell_type": "code",
   "execution_count": 78,
   "metadata": {},
   "outputs": [
    {
     "data": {
      "text/plain": [
       "array(['低楼层(共3层)', '底层(共3层)', '中楼层(共15层)', '高楼层(共18层)', '高楼层(共16层)',\n",
       "       '低楼层(共18层)', '中楼层(共18层)', '高楼层(共6层)', '顶层(共15层)', '中楼层(共16层)',\n",
       "       '低楼层(共15层)', '高楼层(共15层)', '底层(共15层)', '低楼层(共6层)', '中楼层(共6层)',\n",
       "       '底层(共16层)', '顶层(共18层)', '顶层(共6层)', '低楼层(共16层)', '底层(共5层)',\n",
       "       '顶层(共5层)', '中楼层(共5层)', '顶层(共16层)', '中楼层(共14层)', '低楼层(共14层)',\n",
       "       '顶层(共14层)', '高楼层(共14层)', '底层(共6层)', '高楼层(共11层)', '低楼层(共11层)',\n",
       "       '中楼层(共11层)', '底层(共11层)', '暂无信息', '底层(共18层)', '高楼层(共24层)',\n",
       "       '顶层(共24层)', '低楼层(共24层)', '中楼层(共24层)', '底层(共12层)', '高楼层(共12层)',\n",
       "       '低楼层(共12层)', '中楼层(共12层)', '顶层(共12层)', '中楼层(共20层)', '高楼层(共20层)',\n",
       "       '低楼层(共20层)', '中楼层(共25层)', '高楼层(共25层)', '低楼层(共25层)', '低楼层(共10层)',\n",
       "       '中楼层(共10层)', '底层(共14层)', '高楼层(共10层)', '底层(共9层)', '顶层(共9层)',\n",
       "       '高楼层(共9层)', '低楼层(共9层)', '中楼层(共9层)', '中楼层(共23层)', '高楼层(共17层)',\n",
       "       '低楼层(共22层)', '中楼层(共22层)', '高楼层(共23层)', '低楼层(共23层)', '高楼层(共22层)',\n",
       "       '底层(共23层)', '顶层(共23层)', '顶层(共22层)', '底层(共4层)', '中楼层(共4层)',\n",
       "       '中楼层(共7层)', '底层(共7层)', '低楼层(共7层)', '高楼层(共7层)', '高楼层(共21层)',\n",
       "       '低楼层(共21层)', '高楼层(共19层)', '底层(共10层)', '中楼层(共21层)', '顶层(共11层)',\n",
       "       '中楼层(共19层)', '地下室(共10层)', '地下室(共9层)', '顶层(共10层)', '顶层(共19层)',\n",
       "       '低楼层(共19层)', '底层(共21层)', '顶层(共7层)', '底层(共19层)', '中楼层(共17层)',\n",
       "       '低楼层(共17层)', '顶层(共17层)', '地下室(共17层)', '底层(共17层)', '顶层(共8层)',\n",
       "       '未知(共10层)', '未知(共7层)', '地下室(共5层)', '顶层(共3层)', '地下室(共7层)',\n",
       "       '底层(共2层)', '地下室(共2层)', '顶层(共20层)', '未知(共6层)', '顶层(共4层)',\n",
       "       '高楼层(共27层)', '中楼层(共27层)', '底层(共22层)', '低楼层(共13层)', '中楼层(共13层)',\n",
       "       '底层(共13层)', '高楼层(共13层)', '低楼层(共27层)', '未知(共18层)', '顶层(共21层)',\n",
       "       '底层(共27层)', '顶层(共27层)', '低楼层(共30层)', '中楼层(共31层)', '高楼层(共31层)',\n",
       "       '低楼层(共31层)', '高楼层(共30层)', '底层(共31层)', '中楼层(共30层)', '未知(共31层)',\n",
       "       '顶层(共13层)', '中楼层(共28层)', '低楼层(共28层)', '高楼层(共28层)', '底层(共28层)',\n",
       "       '顶层(共28层)', '地下室(共6层)', '中楼层(共8层)', '底层(共8层)', '低楼层(共8层)',\n",
       "       '低楼层(共26层)', '中楼层(共26层)', '底层(共26层)', '顶层(共25层)', '高楼层(共26层)',\n",
       "       '底层(共25层)', '顶层(共26层)', '底层(共20层)', '地下室(共15层)', '高楼层(共8层)',\n",
       "       '未知(共5层)', '地下室(共26层)', '未知(共16层)', '底层(共30层)', '顶层(共30层)',\n",
       "       '未知(共12层)', '顶层(共2层)', '地下室', '地下室(共8层)', '未知(共8层)', '底层(共1层)',\n",
       "       '底层(共24层)', '低楼层(共29层)', '顶层(共31层)', '中楼层(共29层)', '未知(共30层)',\n",
       "       '地下室(共21层)', '未知(共19层)', '地下室(共25层)', '未知(共23层)', '地下室(共11层)',\n",
       "       '地下室(共13层)', '地下室(共1层)', '地下室(共4层)', '地下室(共3层)', '低楼层(共32层)',\n",
       "       '中楼层(共32层)', '高楼层(共32层)', '顶层(共32层)', '底层(共32层)', '未知(共4层)',\n",
       "       '未知(共9层)', '未知(共17层)', '高楼层(共4层)', '地下室(共0层)', '低楼层(共35层)',\n",
       "       '中楼层(共35层)', '高楼层(共35层)', '顶层(共35层)', '高楼层(共29层)', '地下室(共20层)',\n",
       "       '地下室(共18层)', '地下室(共16层)', '地下室(共12层)'], dtype=object)"
      ]
     },
     "execution_count": 78,
     "metadata": {},
     "output_type": "execute_result"
    }
   ],
   "source": [
    "# Checking value classes\n",
    "\n",
    "df['Floor'].unique()"
   ]
  },
  {
   "cell_type": "code",
   "execution_count": 79,
   "metadata": {},
   "outputs": [],
   "source": [
    "# Recategorizing the classes\n",
    "\n",
    "df['Floor'] = df['Floor'].str[0:1]"
   ]
  },
  {
   "cell_type": "code",
   "execution_count": 80,
   "metadata": {},
   "outputs": [
    {
     "data": {
      "text/plain": [
       "array(['低', '底', '中', '高', '顶', '暂', '地', '未'], dtype=object)"
      ]
     },
     "execution_count": 80,
     "metadata": {},
     "output_type": "execute_result"
    }
   ],
   "source": [
    "# Rechecking the classes\n",
    "\n",
    "df['Floor'].unique()"
   ]
  },
  {
   "cell_type": "code",
   "execution_count": 81,
   "metadata": {},
   "outputs": [
    {
     "data": {
      "text/plain": [
       "中    26273\n",
       "高    13979\n",
       "低    13448\n",
       "顶     8630\n",
       "底     6618\n",
       "暂     2940\n",
       "地      365\n",
       "未      182\n",
       "Name: Floor, dtype: int64"
      ]
     },
     "execution_count": 81,
     "metadata": {},
     "output_type": "execute_result"
    }
   ],
   "source": [
    "# Checking values distribution\n",
    "\n",
    "df['Floor'].value_counts()"
   ]
  },
  {
   "cell_type": "code",
   "execution_count": 82,
   "metadata": {},
   "outputs": [],
   "source": [
    "\n",
    "# Rephrasing value classes and including unidentified missing data \"暂无信息\"\n",
    "\n",
    "df.loc[df['Floor'] == '地' , 'Floor'] = 'basement'\n",
    "df.loc[df['Floor'] == '底' , 'Floor'] = 'first'\n",
    "df.loc[df['Floor'] == '低' , 'Floor'] = 'low'\n",
    "df.loc[df['Floor'] == '中' , 'Floor'] = 'middle'\n",
    "df.loc[df['Floor'] == '高' , 'Floor'] = 'high'\n",
    "df.loc[df['Floor'] == '顶' , 'Floor'] = 'top'\n",
    "df.loc[df['Floor'] == '暂' , 'Floor'] = NaN\n",
    "df.loc[df['Floor'] == '未' , 'Floor'] = NaN"
   ]
  },
  {
   "cell_type": "code",
   "execution_count": 83,
   "metadata": {},
   "outputs": [
    {
     "data": {
      "text/plain": [
       "Unnamed: 0               0\n",
       "Housing ID               0\n",
       "Livable Area             0\n",
       "Price/Square Meter       0\n",
       "Price                    0\n",
       "Transaction Date         0\n",
       "Year Built               0\n",
       "Floor Plan               0\n",
       "Facing Direction        62\n",
       "Floor                 3122\n",
       "Decoration            2940\n",
       "dtype: int64"
      ]
     },
     "execution_count": 83,
     "metadata": {},
     "output_type": "execute_result"
    }
   ],
   "source": [
    "# Checking missing data again\n",
    "\n",
    "df.isnull().sum()"
   ]
  },
  {
   "cell_type": "markdown",
   "metadata": {},
   "source": [
    "\n",
    "### Checking Column: Facing Direction"
   ]
  },
  {
   "cell_type": "code",
   "execution_count": 84,
   "metadata": {},
   "outputs": [
    {
     "data": {
      "text/plain": [
       "array(['南 北', '南', '东北', '东 南 西北', '西南', '东 西 北', '西 南', '东 南 北', '东 西',\n",
       "       '东 南', '东 南 西', '东', '北', '东南', '西北', '东 西南', '西 北', '南 西', '东 北',\n",
       "       '西', '东南 北', '西南 北', '东 西北', '南北', '南 西 北', '东西', nan, '东南 西',\n",
       "       '东南 西北', '东 南 西 北', '西 南 北', '北 西南', '西南 东北', '西 东北', '东南 南 西南',\n",
       "       '东 东北', '北 东北', '北 南', '南 东北', '南 北 东', '南 北 东北', '西 西北 北',\n",
       "       '西 西南 南', '东 东南 北', '东 东南 南', '南 北 西', '南 西南', '西 东南', '南 西北',\n",
       "       '东南 南', '东 东南', '南 东', '西南 西', '暂无数据', '东 西 南', '东南 东', '北 东南',\n",
       "       '东 北 东北', '东 西 南 北', '东南 东北', '西 西北', '东南 西南', '东 南 西南', '东 北 西南',\n",
       "       '西北 东北', '西南 西北', '南 北 东 西', '西 东', '南 东南', '西 北 南', '南 西南 西',\n",
       "       '西北 北', '南 西 西北', '西 西南', '北 西北', '东 西南 北', '东南 南 北', '东 西北 北 东北',\n",
       "       '东南 西 北', '西南 西 南', '南 东 西', '南 西南 北', '西 西北 南', '东 南 东南', '东北 南',\n",
       "       '南 西南 东北', '西北 东南'], dtype=object)"
      ]
     },
     "execution_count": 84,
     "metadata": {},
     "output_type": "execute_result"
    }
   ],
   "source": [
    "# Checking value classes\n",
    "\n",
    "df['Facing Direction'].unique()"
   ]
  },
  {
   "cell_type": "code",
   "execution_count": 85,
   "metadata": {},
   "outputs": [
    {
     "data": {
      "text/plain": [
       "南 北       29057\n",
       "南         13541\n",
       "东          3733\n",
       "东 西        3229\n",
       "西          2662\n",
       "          ...  \n",
       "西 西南          1\n",
       "东 北 东北        1\n",
       "东 西南 北        1\n",
       "南 西 西北        1\n",
       "南 西南 北        1\n",
       "Name: Facing Direction, Length: 86, dtype: int64"
      ]
     },
     "execution_count": 85,
     "metadata": {},
     "output_type": "execute_result"
    }
   ],
   "source": [
    "# Checking values distribution\n",
    "\n",
    "df['Facing Direction'].value_counts()"
   ]
  },
  {
   "cell_type": "code",
   "execution_count": 86,
   "metadata": {},
   "outputs": [],
   "source": [
    "# Recategorizing the classes\n",
    "\n",
    "df.loc[df['Facing Direction'].astype(str).str.contains('南'), 'Facing Direction'] = 'South'\n",
    "df.loc[df['Facing Direction'].astype(str).str.contains('北'), 'Facing Direction'] = 'North'\n",
    "df.loc[df['Facing Direction'].astype(str).str.contains('东'), 'Facing Direction'] = 'East/West'\n",
    "df.loc[df['Facing Direction'].astype(str).str.contains('西'), 'Facing Direction'] = 'East/West'\n"
   ]
  },
  {
   "cell_type": "code",
   "execution_count": 87,
   "metadata": {},
   "outputs": [
    {
     "data": {
      "text/plain": [
       "South        56001\n",
       "East/West     9773\n",
       "North         6590\n",
       "暂无数据             9\n",
       "Name: Facing Direction, dtype: int64"
      ]
     },
     "execution_count": 87,
     "metadata": {},
     "output_type": "execute_result"
    }
   ],
   "source": [
    "\n",
    "# Rechecking the value classes and distribution\n",
    "\n",
    "df['Facing Direction'].value_counts()"
   ]
  },
  {
   "cell_type": "code",
   "execution_count": 88,
   "metadata": {},
   "outputs": [],
   "source": [
    "# including unidentified missing data \"暂无数据\"\n",
    "\n",
    "df.loc[df['Facing Direction'] == '暂无数据' , 'Facing Direction'] = NaN"
   ]
  },
  {
   "cell_type": "code",
   "execution_count": 89,
   "metadata": {},
   "outputs": [
    {
     "data": {
      "text/plain": [
       "Unnamed: 0               0\n",
       "Housing ID               0\n",
       "Livable Area             0\n",
       "Price/Square Meter       0\n",
       "Price                    0\n",
       "Transaction Date         0\n",
       "Year Built               0\n",
       "Floor Plan               0\n",
       "Facing Direction        71\n",
       "Floor                 3122\n",
       "Decoration            2940\n",
       "dtype: int64"
      ]
     },
     "execution_count": 89,
     "metadata": {},
     "output_type": "execute_result"
    }
   ],
   "source": [
    "# Rechecking missing data\n",
    "\n",
    "df.isnull().sum()"
   ]
  },
  {
   "cell_type": "markdown",
   "metadata": {},
   "source": [
    "### Checking Column: Year Built"
   ]
  },
  {
   "cell_type": "code",
   "execution_count": 90,
   "metadata": {},
   "outputs": [
    {
     "data": {
      "text/plain": [
       "array(['1965年建板楼', '1993年建板塔结合', '2000年建塔楼', '1991年建板塔结合', '1985年建板楼',\n",
       "       '1989年建塔楼', '1984年建板楼', '1982年建板楼', '1983年建板楼', '1988年建板楼',\n",
       "       '1979年建板楼', '1981年建板楼', '1980年建板楼', '1997年建塔楼', '1996年建塔楼',\n",
       "       '1995年建塔楼', '1997年建板塔结合', '1998年建塔楼', '1997年建板楼', '2007年建板塔结合',\n",
       "       '2007年建板楼', '1994年建塔楼', '暂无信息', '1990年建板楼', '1999年建板楼', '1989年建板楼',\n",
       "       '板楼', '1994年建板楼', '1993年建板楼', '2003年建塔楼', '2004年建塔楼', '暂无数据',\n",
       "       '2000年建板塔结合', '板塔结合', '2002年建塔楼', '1978年建板楼', '1986年建板塔结合',\n",
       "       '1985年建板塔结合', '2001年建塔楼', '1999年建板塔结合', '1995年建板塔结合', '2001年建板塔结合',\n",
       "       '2001年建板楼', '1990年建板塔结合', '1992年建板楼', '1991年建板楼', '1995年建板楼',\n",
       "       '2000年建板楼', '2003年建板楼', '1996年建板楼', '2012年建板楼', '2010年建板楼',\n",
       "       '2014年建板楼', '2011年建板楼', '2013年建板楼', '2016年建板楼', '2007年建塔楼',\n",
       "       '1987年建板楼', '1986年建板楼', '2002年建板楼', '1999年建塔楼', '1998年建板楼',\n",
       "       '2003年建板塔结合', '2005年建板塔结合', '2004年建板楼', '2005年建板楼', '2008年建板塔结合',\n",
       "       '2008年建板楼', '2005年建塔楼', '1993年建塔楼', '1996年建板塔结合', '2002年建板塔结合',\n",
       "       '2004年建板塔结合', '2004年建暂无数据', '2003年建暂无数据', '2014年建板塔结合',\n",
       "       '2013年建板塔结合', '2009年建板楼', '2002年建暂无数据', '2005年建暂无数据', '1998年建板塔结合',\n",
       "       '1976年建板楼', '1963年建板楼', '2010年建塔楼', '2015年建板楼', '塔楼', '2006年建板楼',\n",
       "       '2006年建板塔结合', '1975年建板楼', '2009年建板塔结合', '2012年建板塔结合', '2011年建板塔结合',\n",
       "       '2016年建塔楼', '2018年建暂无数据', '2016年建暂无数据', '2017年建板楼', '1984年建塔楼',\n",
       "       '1986年建塔楼', '1985年建塔楼', '1989年建板塔结合', '1988年建板塔结合', '1983年建板塔结合',\n",
       "       '1984年建板塔结合', '1987年建塔楼', '1980年建板塔结合', '1992年建塔楼', '1992年建板塔结合',\n",
       "       '1981年建塔楼', '1982年建塔楼', '1982年建板塔结合', '1979年建板塔结合', '1994年建板塔结合',\n",
       "       '1950年建板楼', '1970年建板楼', '1967年建板楼', '1960年建板楼', '1973年建板楼',\n",
       "       '1959年建板楼', '1962年建板楼', '1968年建板楼', '1958年建板楼', '1980年建塔楼',\n",
       "       '1981年建板塔结合', '1987年建板塔结合', '1977年建板楼', '1957年建板楼', '1961年建板楼',\n",
       "       '1990年建塔楼', '1991年建塔楼', '1974年建板楼', '1956年建板楼', '1963年建板塔结合',\n",
       "       '1970年建板塔结合', '1958年建板塔结合', '1964年建板楼', '1960年建板塔结合', '2006年建塔楼',\n",
       "       '1955年建板楼', '2009年建塔楼', '1988年建塔楼', '1983年建塔楼', '2010年建板塔结合',\n",
       "       '2018年建板楼', '2008年建暂无数据', '2012年建塔楼', '2010年建暂无数据', '2011年建暂无数据',\n",
       "       '1992年建暂无数据', '1966年建板楼', '2012年建暂无数据', '2000年建暂无数据', '2001年建暂无数据',\n",
       "       '底层(共6层)', '2008年建塔楼', '1982年建平房', '2009年建暂无数据', '1978年建板塔结合',\n",
       "       '2006年建暂无数据', '2007年建暂无数据', '1980年建暂无数据', '1993年建暂无数据', '1954年建板楼',\n",
       "       '2013年建塔楼', '1997年建暂无数据', '1999年建暂无数据', '1972年建板楼', '2015年建板塔结合',\n",
       "       '2011年建塔楼', '平房'], dtype=object)"
      ]
     },
     "execution_count": 90,
     "metadata": {},
     "output_type": "execute_result"
    }
   ],
   "source": [
    "# Checking value classes\n",
    "\n",
    "df['Year Built'].unique()"
   ]
  },
  {
   "cell_type": "code",
   "execution_count": 91,
   "metadata": {},
   "outputs": [
    {
     "data": {
      "text/plain": [
       "array(['1965', '1993', '2000', '1991', '1985', '1989', '1984', '1982',\n",
       "       '1983', '1988', '1979', '1981', '1980', '1997', '1996', '1995',\n",
       "       '1998', '2007', '1994', '暂无信息', '1990', '1999', '板楼', '2003',\n",
       "       '2004', '暂无数据', '板塔结合', '2002', '1978', '1986', '2001', '1992',\n",
       "       '2012', '2010', '2014', '2011', '2013', '2016', '1987', '2005',\n",
       "       '2008', '2009', '1976', '1963', '2015', '塔楼', '2006', '1975',\n",
       "       '2018', '2017', '1950', '1970', '1967', '1960', '1973', '1959',\n",
       "       '1962', '1968', '1958', '1977', '1957', '1961', '1974', '1956',\n",
       "       '1964', '1955', '1966', '底层(共', '1954', '1972', '平房'], dtype=object)"
      ]
     },
     "execution_count": 91,
     "metadata": {},
     "output_type": "execute_result"
    }
   ],
   "source": [
    "# Keep the first 4 digits for 'Year Built'\n",
    "\n",
    "df['Year Built'] = df['Year Built'].astype('str').str[0:4]\n",
    "df['Year Built'].unique()"
   ]
  },
  {
   "cell_type": "code",
   "execution_count": 92,
   "metadata": {},
   "outputs": [],
   "source": [
    "# including unidentified missing data \n",
    "\n",
    "df.loc[df['Year Built'] == '暂无信息', 'Year Built'] = NaN\n",
    "df.loc[df['Year Built'] == '板楼' , 'Year Built'] = NaN\n",
    "df.loc[df['Year Built'] == '暂无数据', 'Year Built'] = NaN\n",
    "df.loc[df['Year Built'] == '板塔结合', 'Year Built'] = NaN\n",
    "df.loc[df['Year Built'] == '塔楼', 'Year Built'] = NaN\n",
    "df.loc[df['Year Built'] == '底层(共' , 'Year Built'] = NaN\n",
    "df.loc[df['Year Built'] == '平房', 'Year Built'] = NaN"
   ]
  },
  {
   "cell_type": "code",
   "execution_count": 93,
   "metadata": {},
   "outputs": [
    {
     "data": {
      "text/plain": [
       "1998    4522\n",
       "2000    4084\n",
       "2004    3656\n",
       "1990    3327\n",
       "1996    3279\n",
       "        ... \n",
       "2017       3\n",
       "1961       3\n",
       "2018       3\n",
       "1950       2\n",
       "1972       2\n",
       "Name: Year Built, Length: 64, dtype: int64"
      ]
     },
     "execution_count": 93,
     "metadata": {},
     "output_type": "execute_result"
    }
   ],
   "source": [
    "# Rechecking the value classes and distribution\n",
    "\n",
    "df['Year Built'].value_counts()"
   ]
  },
  {
   "cell_type": "code",
   "execution_count": 94,
   "metadata": {},
   "outputs": [
    {
     "data": {
      "text/plain": [
       "Unnamed: 0               0\n",
       "Housing ID               0\n",
       "Livable Area             0\n",
       "Price/Square Meter       0\n",
       "Price                    0\n",
       "Transaction Date         0\n",
       "Year Built            7159\n",
       "Floor Plan               0\n",
       "Facing Direction        71\n",
       "Floor                 3122\n",
       "Decoration            2940\n",
       "dtype: int64"
      ]
     },
     "execution_count": 94,
     "metadata": {},
     "output_type": "execute_result"
    }
   ],
   "source": [
    "# Rechecking missing data\n",
    "\n",
    "df.isnull().sum()"
   ]
  },
  {
   "cell_type": "markdown",
   "metadata": {},
   "source": [
    "### Checking Column: Floor Plan"
   ]
  },
  {
   "cell_type": "code",
   "execution_count": 95,
   "metadata": {},
   "outputs": [
    {
     "data": {
      "text/plain": [
       "array(['2室1厅', '3室1厅', '3室2厅', '1室1厅', '2室0厅', '3室0厅', '1室0厅', '4室1厅',\n",
       "       '4室2厅', '2室2厅', '4室0厅', '5室1厅', '1室2厅', '3室3厅', '6室1厅', '6室2厅',\n",
       "       '5室2厅', '4室3厅', '5室3厅', '6室3厅', '2室3厅', '5室4厅', '4室4厅', '0室0厅',\n",
       "       '1房间1卫', '3房间1卫', '2房间1卫', '1房间0卫', '6室4厅', '4房间2卫', '2房间0卫',\n",
       "       '5房间3卫', '5房间2卫', '4室5厅', '7室3厅', '9室0厅', '8室4厅', '7室2厅', '--室--厅',\n",
       "       '2房间2卫', '5室0厅', '3房间2卫', '4室9厅'], dtype=object)"
      ]
     },
     "execution_count": 95,
     "metadata": {},
     "output_type": "execute_result"
    }
   ],
   "source": [
    "# Checking value classes\n",
    "\n",
    "df['Floor Plan'].unique()"
   ]
  },
  {
   "cell_type": "code",
   "execution_count": 96,
   "metadata": {},
   "outputs": [
    {
     "data": {
      "text/plain": [
       "array(['2室1厅', '3室1厅', '3室2厅', '1室1厅', '2室0厅', '3室0厅', '1室0厅', '4室1厅',\n",
       "       '4室2厅', '2室2厅', '4室0厅', '5室1厅', '1室2厅', '3室3厅', '6室1厅', '6室2厅',\n",
       "       '5室2厅', '4室3厅', '5室3厅', '6室3厅', '2室3厅', '5室4厅', '4室4厅', nan,\n",
       "       '1房间1卫', '3房间1卫', '2房间1卫', '1房间0卫', '6室4厅', '4房间2卫', '2房间0卫',\n",
       "       '5房间3卫', '5房间2卫', '4室5厅', '7室3厅', '9室0厅', '8室4厅', '7室2厅', '2房间2卫',\n",
       "       '5室0厅', '3房间2卫', '4室9厅'], dtype=object)"
      ]
     },
     "execution_count": 96,
     "metadata": {},
     "output_type": "execute_result"
    }
   ],
   "source": [
    "# Including unidentified missing data \n",
    "\n",
    "df.loc[df['Floor Plan'] == '--室--厅', 'Floor Plan'] = NaN\n",
    "df.loc[df['Floor Plan'] == '0室0厅', 'Floor Plan'] = NaN\n",
    "\n",
    "df['Floor Plan'].unique()"
   ]
  },
  {
   "cell_type": "code",
   "execution_count": 97,
   "metadata": {},
   "outputs": [
    {
     "data": {
      "text/plain": [
       "2室1厅     32460\n",
       "1室1厅     14321\n",
       "3室1厅     10366\n",
       "3室2厅      5593\n",
       "2室2厅      4245\n",
       "1室0厅      2620\n",
       "4室2厅      1188\n",
       "4室1厅       371\n",
       "3室0厅       311\n",
       "2室0厅       307\n",
       "1室2厅       219\n",
       "5室2厅       123\n",
       "4室3厅        74\n",
       "5室3厅        53\n",
       "3室3厅        35\n",
       "6室2厅        29\n",
       "4室0厅        19\n",
       "2房间1卫       16\n",
       "5室1厅        15\n",
       "6室3厅        12\n",
       "3房间1卫        8\n",
       "1房间1卫        6\n",
       "5室4厅         5\n",
       "4室4厅         3\n",
       "8室4厅         3\n",
       "2室3厅         3\n",
       "2房间2卫        3\n",
       "4房间2卫        3\n",
       "5房间3卫        3\n",
       "6室1厅         3\n",
       "7室2厅         2\n",
       "1房间0卫        2\n",
       "5室0厅         1\n",
       "2房间0卫        1\n",
       "3房间2卫        1\n",
       "7室3厅         1\n",
       "5房间2卫        1\n",
       "6室4厅         1\n",
       "9室0厅         1\n",
       "4室9厅         1\n",
       "4室5厅         1\n",
       "Name: Floor Plan, dtype: int64"
      ]
     },
     "execution_count": 97,
     "metadata": {},
     "output_type": "execute_result"
    }
   ],
   "source": [
    "# Checking the value classes and distribution\n",
    "\n",
    "df['Floor Plan'].value_counts()"
   ]
  },
  {
   "cell_type": "code",
   "execution_count": 98,
   "metadata": {},
   "outputs": [],
   "source": [
    "# Recategorizing the classes\n",
    "\n",
    "df.loc[df['Floor Plan'] == '2室1厅' , 'Floor Plan'] = '2B'\n",
    "df.loc[df['Floor Plan'] == '3室1厅' , 'Floor Plan'] = '3B'\n",
    "df.loc[df['Floor Plan'] == '3室2厅' , 'Floor Plan'] = '3B'\n",
    "df.loc[df['Floor Plan'] == '1室1厅' , 'Floor Plan'] = '1B'\n",
    "df.loc[df['Floor Plan'] == '2室0厅' , 'Floor Plan'] = '2B'\n",
    "df.loc[df['Floor Plan'] == '3室0厅' , 'Floor Plan'] = '3B'\n",
    "df.loc[df['Floor Plan'] == '1室0厅' , 'Floor Plan'] = '1B'\n",
    "df.loc[df['Floor Plan'] == '4室1厅' , 'Floor Plan'] = '4B or above'\n",
    "\n",
    "df.loc[df['Floor Plan'] == '4室2厅' , 'Floor Plan'] = '4B or above'\n",
    "df.loc[df['Floor Plan'] == '2室2厅' , 'Floor Plan'] = '2B'\n",
    "df.loc[df['Floor Plan'] == '4室0厅' , 'Floor Plan'] = '4B or above'\n",
    "df.loc[df['Floor Plan'] == '5室1厅' , 'Floor Plan'] = '4B or above'\n",
    "df.loc[df['Floor Plan'] == '1室2厅' , 'Floor Plan'] = '1B'\n",
    "df.loc[df['Floor Plan'] == '3室3厅' , 'Floor Plan'] = '3B'\n",
    "df.loc[df['Floor Plan'] == '6室1厅' , 'Floor Plan'] = '4B or above'\n",
    "df.loc[df['Floor Plan'] == '6室2厅' , 'Floor Plan'] = '4B or above'\n",
    "\n",
    "df.loc[df['Floor Plan'] == '5室2厅' , 'Floor Plan'] = '4B or above'\n",
    "df.loc[df['Floor Plan'] == '4室3厅' , 'Floor Plan'] = '4B or above'\n",
    "df.loc[df['Floor Plan'] == '5室3厅' , 'Floor Plan'] = '4B or above'\n",
    "df.loc[df['Floor Plan'] == '6室3厅' , 'Floor Plan'] = '4B or above'\n",
    "df.loc[df['Floor Plan'] == '2室3厅' , 'Floor Plan'] = '2B'\n",
    "df.loc[df['Floor Plan'] == '5室4厅' , 'Floor Plan'] = '4B or above'\n",
    "df.loc[df['Floor Plan'] == '4室4厅' , 'Floor Plan'] = '4B or above'\n",
    "df.loc[df['Floor Plan'] == '0室0厅' , 'Floor Plan'] = '0B'\n",
    "\n",
    "df.loc[df['Floor Plan'] == '6室4厅' , 'Floor Plan'] = '4B or above'\n",
    "df.loc[df['Floor Plan'] == '4室5厅' , 'Floor Plan'] = '4B or above'\n",
    "df.loc[df['Floor Plan'] == '7室3厅' , 'Floor Plan'] = '4B or above'\n",
    "df.loc[df['Floor Plan'] == '9室0厅' , 'Floor Plan'] = '4B or above'\n",
    "df.loc[df['Floor Plan'] == '8室4厅' , 'Floor Plan'] = '4B or above'\n",
    "df.loc[df['Floor Plan'] == '7室2厅' , 'Floor Plan'] = '4B or above'\n",
    "df.loc[df['Floor Plan'] == '5室0厅' , 'Floor Plan'] = '4B or above'\n",
    "df.loc[df['Floor Plan'] == '4室9厅' , 'Floor Plan'] = '4B or above'\n",
    "\n",
    "df.loc[df['Floor Plan'] == '1房间1卫', 'Floor Plan'] = '1B'\n",
    "df.loc[df['Floor Plan'] == '3房间1卫', 'Floor Plan'] = '3B'\n",
    "df.loc[df['Floor Plan'] == '2房间1卫', 'Floor Plan'] = '2B'\n",
    "df.loc[df['Floor Plan'] == '1房间0卫', 'Floor Plan'] = '1B'\n",
    "df.loc[df['Floor Plan'] == '4房间2卫', 'Floor Plan'] = '4B or above'\n",
    "df.loc[df['Floor Plan'] == '2房间0卫', 'Floor Plan'] = '2B'\n",
    "df.loc[df['Floor Plan'] == '5房间3卫', 'Floor Plan'] = '4B or above'\n",
    "df.loc[df['Floor Plan'] == '5房间3卫', 'Floor Plan'] = '4B or above'\n",
    "df.loc[df['Floor Plan'] == '5房间2卫', 'Floor Plan'] = '4B or above'\n",
    "df.loc[df['Floor Plan'] == '2房间2卫', 'Floor Plan'] = '2B'\n",
    "df.loc[df['Floor Plan'] == '3房间2卫', 'Floor Plan'] = '3B'"
   ]
  },
  {
   "cell_type": "code",
   "execution_count": 99,
   "metadata": {},
   "outputs": [
    {
     "data": {
      "text/plain": [
       "2B             37035\n",
       "1B             17168\n",
       "3B             16314\n",
       "4B or above     1913\n",
       "Name: Floor Plan, dtype: int64"
      ]
     },
     "execution_count": 99,
     "metadata": {},
     "output_type": "execute_result"
    }
   ],
   "source": [
    "# Rechecking the value classes and distribution\n",
    "\n",
    "df['Floor Plan'].value_counts()"
   ]
  },
  {
   "cell_type": "code",
   "execution_count": 100,
   "metadata": {},
   "outputs": [
    {
     "data": {
      "text/plain": [
       "Unnamed: 0               0\n",
       "Housing ID               0\n",
       "Livable Area             0\n",
       "Price/Square Meter       0\n",
       "Price                    0\n",
       "Transaction Date         0\n",
       "Year Built            7159\n",
       "Floor Plan               5\n",
       "Facing Direction        71\n",
       "Floor                 3122\n",
       "Decoration            2940\n",
       "dtype: int64"
      ]
     },
     "execution_count": 100,
     "metadata": {},
     "output_type": "execute_result"
    }
   ],
   "source": [
    "# Rechecking missing data\n",
    "\n",
    "df.isnull().sum()"
   ]
  },
  {
   "cell_type": "markdown",
   "metadata": {},
   "source": [
    "### Dealing with missing data"
   ]
  },
  {
   "cell_type": "code",
   "execution_count": 101,
   "metadata": {},
   "outputs": [
    {
     "data": {
      "text/plain": [
       "Unnamed: 0               0\n",
       "Housing ID               0\n",
       "Livable Area             0\n",
       "Price/Square Meter       0\n",
       "Price                    0\n",
       "Transaction Date         0\n",
       "Year Built               0\n",
       "Floor Plan               5\n",
       "Facing Direction        71\n",
       "Floor                 3122\n",
       "Decoration            2940\n",
       "dtype: int64"
      ]
     },
     "execution_count": 101,
     "metadata": {},
     "output_type": "execute_result"
    }
   ],
   "source": [
    "# Filling the missing data with \"pad\" method\n",
    "\n",
    "df['Year Built'] = df['Year Built'].fillna(method='pad',axis=0)\n",
    "df.isnull().sum() "
   ]
  },
  {
   "cell_type": "code",
   "execution_count": 102,
   "metadata": {},
   "outputs": [
    {
     "data": {
      "text/html": [
       "<div>\n",
       "<style scoped>\n",
       "    .dataframe tbody tr th:only-of-type {\n",
       "        vertical-align: middle;\n",
       "    }\n",
       "\n",
       "    .dataframe tbody tr th {\n",
       "        vertical-align: top;\n",
       "    }\n",
       "\n",
       "    .dataframe thead th {\n",
       "        text-align: right;\n",
       "    }\n",
       "</style>\n",
       "<table border=\"1\" class=\"dataframe\">\n",
       "  <thead>\n",
       "    <tr style=\"text-align: right;\">\n",
       "      <th></th>\n",
       "      <th>Unnamed: 0</th>\n",
       "      <th>Housing ID</th>\n",
       "      <th>Livable Area</th>\n",
       "      <th>Price/Square Meter</th>\n",
       "      <th>Price</th>\n",
       "      <th>Transaction Date</th>\n",
       "      <th>Year Built</th>\n",
       "      <th>Floor Plan</th>\n",
       "      <th>Facing Direction</th>\n",
       "      <th>Floor</th>\n",
       "      <th>Decoration</th>\n",
       "    </tr>\n",
       "  </thead>\n",
       "  <tbody>\n",
       "    <tr>\n",
       "      <th>0</th>\n",
       "      <td>1</td>\n",
       "      <td>中关村南大街甲3号 2室1厅 56.3平米</td>\n",
       "      <td>56.3平米</td>\n",
       "      <td>38544.0</td>\n",
       "      <td>217.0</td>\n",
       "      <td>2015-05-08</td>\n",
       "      <td>1965</td>\n",
       "      <td>2B</td>\n",
       "      <td>South</td>\n",
       "      <td>low</td>\n",
       "      <td>simple</td>\n",
       "    </tr>\n",
       "    <tr>\n",
       "      <th>1</th>\n",
       "      <td>2</td>\n",
       "      <td>中关村南大街甲3号 2室1厅 55.1平米</td>\n",
       "      <td>55.1平米</td>\n",
       "      <td>33667.0</td>\n",
       "      <td>185.5</td>\n",
       "      <td>2012-04-10</td>\n",
       "      <td>1965</td>\n",
       "      <td>2B</td>\n",
       "      <td>South</td>\n",
       "      <td>first</td>\n",
       "      <td>other</td>\n",
       "    </tr>\n",
       "    <tr>\n",
       "      <th>2</th>\n",
       "      <td>3</td>\n",
       "      <td>民族大学南路19号院 2室1厅 70平米</td>\n",
       "      <td>70平米</td>\n",
       "      <td>91429.0</td>\n",
       "      <td>640.0</td>\n",
       "      <td>2019-04-19</td>\n",
       "      <td>1993</td>\n",
       "      <td>2B</td>\n",
       "      <td>South</td>\n",
       "      <td>middle</td>\n",
       "      <td>simple</td>\n",
       "    </tr>\n",
       "    <tr>\n",
       "      <th>3</th>\n",
       "      <td>4</td>\n",
       "      <td>民族大学南路19号院 2室1厅 98.49平米</td>\n",
       "      <td>98.49平米</td>\n",
       "      <td>102752.0</td>\n",
       "      <td>1012.0</td>\n",
       "      <td>2019-04-07</td>\n",
       "      <td>2000</td>\n",
       "      <td>2B</td>\n",
       "      <td>South</td>\n",
       "      <td>high</td>\n",
       "      <td>simple</td>\n",
       "    </tr>\n",
       "    <tr>\n",
       "      <th>4</th>\n",
       "      <td>5</td>\n",
       "      <td>民族大学南路19号院 2室1厅 60.7平米</td>\n",
       "      <td>60.7平米</td>\n",
       "      <td>98847.0</td>\n",
       "      <td>600.0</td>\n",
       "      <td>2019-02-22</td>\n",
       "      <td>1991</td>\n",
       "      <td>2B</td>\n",
       "      <td>South</td>\n",
       "      <td>high</td>\n",
       "      <td>other</td>\n",
       "    </tr>\n",
       "    <tr>\n",
       "      <th>...</th>\n",
       "      <td>...</td>\n",
       "      <td>...</td>\n",
       "      <td>...</td>\n",
       "      <td>...</td>\n",
       "      <td>...</td>\n",
       "      <td>...</td>\n",
       "      <td>...</td>\n",
       "      <td>...</td>\n",
       "      <td>...</td>\n",
       "      <td>...</td>\n",
       "      <td>...</td>\n",
       "    </tr>\n",
       "    <tr>\n",
       "      <th>72430</th>\n",
       "      <td>72431</td>\n",
       "      <td>双榆树东里 1室1厅 46平米</td>\n",
       "      <td>46平米</td>\n",
       "      <td>31305.0</td>\n",
       "      <td>144.0</td>\n",
       "      <td>2012-04-15</td>\n",
       "      <td>1990</td>\n",
       "      <td>1B</td>\n",
       "      <td>South</td>\n",
       "      <td>first</td>\n",
       "      <td>other</td>\n",
       "    </tr>\n",
       "    <tr>\n",
       "      <th>72431</th>\n",
       "      <td>72432</td>\n",
       "      <td>双榆树东里 2室1厅 53.1平米</td>\n",
       "      <td>53.1平米</td>\n",
       "      <td>33710.0</td>\n",
       "      <td>179.0</td>\n",
       "      <td>2012-03-04</td>\n",
       "      <td>1985</td>\n",
       "      <td>2B</td>\n",
       "      <td>South</td>\n",
       "      <td>low</td>\n",
       "      <td>other</td>\n",
       "    </tr>\n",
       "    <tr>\n",
       "      <th>72432</th>\n",
       "      <td>72433</td>\n",
       "      <td>双榆树东里 3室1厅 70.2平米</td>\n",
       "      <td>70.2平米</td>\n",
       "      <td>30485.0</td>\n",
       "      <td>214.0</td>\n",
       "      <td>2012-02-26</td>\n",
       "      <td>1985</td>\n",
       "      <td>3B</td>\n",
       "      <td>South</td>\n",
       "      <td>top</td>\n",
       "      <td>other</td>\n",
       "    </tr>\n",
       "    <tr>\n",
       "      <th>72433</th>\n",
       "      <td>72434</td>\n",
       "      <td>双榆树东里 3室1厅 71.9平米</td>\n",
       "      <td>71.9平米</td>\n",
       "      <td>33380.0</td>\n",
       "      <td>240.0</td>\n",
       "      <td>2012-02-26</td>\n",
       "      <td>1985</td>\n",
       "      <td>3B</td>\n",
       "      <td>South</td>\n",
       "      <td>middle</td>\n",
       "      <td>other</td>\n",
       "    </tr>\n",
       "    <tr>\n",
       "      <th>72434</th>\n",
       "      <td>72435</td>\n",
       "      <td>双榆树东里 2室1厅 60.28平米</td>\n",
       "      <td>60.28平米</td>\n",
       "      <td>29861.0</td>\n",
       "      <td>180.0</td>\n",
       "      <td>2012-01-05</td>\n",
       "      <td>1990</td>\n",
       "      <td>2B</td>\n",
       "      <td>South</td>\n",
       "      <td>middle</td>\n",
       "      <td>other</td>\n",
       "    </tr>\n",
       "  </tbody>\n",
       "</table>\n",
       "<p>69300 rows × 11 columns</p>\n",
       "</div>"
      ],
      "text/plain": [
       "       Unnamed: 0               Housing ID Livable Area  Price/Square Meter  \\\n",
       "0               1    中关村南大街甲3号 2室1厅 56.3平米       56.3平米             38544.0   \n",
       "1               2    中关村南大街甲3号 2室1厅 55.1平米       55.1平米             33667.0   \n",
       "2               3     民族大学南路19号院 2室1厅 70平米         70平米             91429.0   \n",
       "3               4  民族大学南路19号院 2室1厅 98.49平米      98.49平米            102752.0   \n",
       "4               5   民族大学南路19号院 2室1厅 60.7平米       60.7平米             98847.0   \n",
       "...           ...                      ...          ...                 ...   \n",
       "72430       72431          双榆树东里 1室1厅 46平米         46平米             31305.0   \n",
       "72431       72432        双榆树东里 2室1厅 53.1平米       53.1平米             33710.0   \n",
       "72432       72433        双榆树东里 3室1厅 70.2平米       70.2平米             30485.0   \n",
       "72433       72434        双榆树东里 3室1厅 71.9平米       71.9平米             33380.0   \n",
       "72434       72435       双榆树东里 2室1厅 60.28平米      60.28平米             29861.0   \n",
       "\n",
       "        Price Transaction Date Year Built Floor Plan Facing Direction   Floor  \\\n",
       "0       217.0       2015-05-08       1965         2B            South     low   \n",
       "1       185.5       2012-04-10       1965         2B            South   first   \n",
       "2       640.0       2019-04-19       1993         2B            South  middle   \n",
       "3      1012.0       2019-04-07       2000         2B            South    high   \n",
       "4       600.0       2019-02-22       1991         2B            South    high   \n",
       "...       ...              ...        ...        ...              ...     ...   \n",
       "72430   144.0       2012-04-15       1990         1B            South   first   \n",
       "72431   179.0       2012-03-04       1985         2B            South     low   \n",
       "72432   214.0       2012-02-26       1985         3B            South     top   \n",
       "72433   240.0       2012-02-26       1985         3B            South  middle   \n",
       "72434   180.0       2012-01-05       1990         2B            South  middle   \n",
       "\n",
       "      Decoration  \n",
       "0         simple  \n",
       "1          other  \n",
       "2         simple  \n",
       "3         simple  \n",
       "4          other  \n",
       "...          ...  \n",
       "72430      other  \n",
       "72431      other  \n",
       "72432      other  \n",
       "72433      other  \n",
       "72434      other  \n",
       "\n",
       "[69300 rows x 11 columns]"
      ]
     },
     "execution_count": 102,
     "metadata": {},
     "output_type": "execute_result"
    }
   ],
   "source": [
    "# Removing the oberservations with missing data \n",
    "\n",
    "df.dropna( axis=0, how='any', thresh=None, subset=None, inplace=False)"
   ]
  },
  {
   "cell_type": "markdown",
   "metadata": {},
   "source": [
    "### Simplifying the contents for a few columns"
   ]
  },
  {
   "cell_type": "code",
   "execution_count": 103,
   "metadata": {},
   "outputs": [
    {
     "name": "stderr",
     "output_type": "stream",
     "text": [
      "/Users/Reinhard/opt/anaconda3/lib/python3.8/site-packages/pandas/core/indexing.py:671: SettingWithCopyWarning: \n",
      "A value is trying to be set on a copy of a slice from a DataFrame\n",
      "\n",
      "See the caveats in the documentation: https://pandas.pydata.org/pandas-docs/stable/user_guide/indexing.html#returning-a-view-versus-a-copy\n",
      "  self._setitem_with_indexer(indexer, value)\n"
     ]
    }
   ],
   "source": [
    "# Changing the content of Housing ID to community name\n",
    "\n",
    "df['Housing ID'] = df['Housing ID'].str.split(pat = ' ')\n",
    "for i in range(len(df['Housing ID'])):\n",
    "    df['Housing ID'].iloc[i] = df['Housing ID'].iloc[i][0]\n",
    "    \n",
    "    \n",
    "# Leaving only numbers for Livable Area and convert it into float\n",
    "\n",
    "df['Livable Area'] = df['Livable Area'].astype('str').str[:-2]\n",
    "df['Livable Area'] = df['Livable Area'].astype(float)\n",
    "\n",
    "# Deleting useless columns such as 'Price' and 'Transaction_ID' \n",
    "\n",
    "del df['Price']\n",
    "del df['Unnamed: 0']"
   ]
  },
  {
   "cell_type": "markdown",
   "metadata": {},
   "source": [
    "### Renaming names for a few columns"
   ]
  },
  {
   "cell_type": "code",
   "execution_count": 104,
   "metadata": {},
   "outputs": [
    {
     "data": {
      "text/html": [
       "<div>\n",
       "<style scoped>\n",
       "    .dataframe tbody tr th:only-of-type {\n",
       "        vertical-align: middle;\n",
       "    }\n",
       "\n",
       "    .dataframe tbody tr th {\n",
       "        vertical-align: top;\n",
       "    }\n",
       "\n",
       "    .dataframe thead th {\n",
       "        text-align: right;\n",
       "    }\n",
       "</style>\n",
       "<table border=\"1\" class=\"dataframe\">\n",
       "  <thead>\n",
       "    <tr style=\"text-align: right;\">\n",
       "      <th></th>\n",
       "      <th>Price/Square Meter</th>\n",
       "      <th>Community Name</th>\n",
       "      <th>Livable Area</th>\n",
       "      <th>Date</th>\n",
       "      <th>Year Built</th>\n",
       "      <th>Floor Plan</th>\n",
       "      <th>Facing Direction</th>\n",
       "      <th>Floor</th>\n",
       "      <th>Decoration</th>\n",
       "    </tr>\n",
       "  </thead>\n",
       "  <tbody>\n",
       "    <tr>\n",
       "      <th>0</th>\n",
       "      <td>38544.0</td>\n",
       "      <td>中关村南大街甲3号</td>\n",
       "      <td>56.30</td>\n",
       "      <td>2015-05-08</td>\n",
       "      <td>1965</td>\n",
       "      <td>2B</td>\n",
       "      <td>South</td>\n",
       "      <td>low</td>\n",
       "      <td>simple</td>\n",
       "    </tr>\n",
       "    <tr>\n",
       "      <th>1</th>\n",
       "      <td>33667.0</td>\n",
       "      <td>中关村南大街甲3号</td>\n",
       "      <td>55.10</td>\n",
       "      <td>2012-04-10</td>\n",
       "      <td>1965</td>\n",
       "      <td>2B</td>\n",
       "      <td>South</td>\n",
       "      <td>first</td>\n",
       "      <td>other</td>\n",
       "    </tr>\n",
       "    <tr>\n",
       "      <th>2</th>\n",
       "      <td>91429.0</td>\n",
       "      <td>民族大学南路19号院</td>\n",
       "      <td>70.00</td>\n",
       "      <td>2019-04-19</td>\n",
       "      <td>1993</td>\n",
       "      <td>2B</td>\n",
       "      <td>South</td>\n",
       "      <td>middle</td>\n",
       "      <td>simple</td>\n",
       "    </tr>\n",
       "    <tr>\n",
       "      <th>3</th>\n",
       "      <td>102752.0</td>\n",
       "      <td>民族大学南路19号院</td>\n",
       "      <td>98.49</td>\n",
       "      <td>2019-04-07</td>\n",
       "      <td>2000</td>\n",
       "      <td>2B</td>\n",
       "      <td>South</td>\n",
       "      <td>high</td>\n",
       "      <td>simple</td>\n",
       "    </tr>\n",
       "    <tr>\n",
       "      <th>4</th>\n",
       "      <td>98847.0</td>\n",
       "      <td>民族大学南路19号院</td>\n",
       "      <td>60.70</td>\n",
       "      <td>2019-02-22</td>\n",
       "      <td>1991</td>\n",
       "      <td>2B</td>\n",
       "      <td>South</td>\n",
       "      <td>high</td>\n",
       "      <td>other</td>\n",
       "    </tr>\n",
       "  </tbody>\n",
       "</table>\n",
       "</div>"
      ],
      "text/plain": [
       "   Price/Square Meter Community Name  Livable Area        Date Year Built  \\\n",
       "0             38544.0      中关村南大街甲3号         56.30  2015-05-08       1965   \n",
       "1             33667.0      中关村南大街甲3号         55.10  2012-04-10       1965   \n",
       "2             91429.0     民族大学南路19号院         70.00  2019-04-19       1993   \n",
       "3            102752.0     民族大学南路19号院         98.49  2019-04-07       2000   \n",
       "4             98847.0     民族大学南路19号院         60.70  2019-02-22       1991   \n",
       "\n",
       "  Floor Plan Facing Direction   Floor Decoration  \n",
       "0         2B            South     low     simple  \n",
       "1         2B            South   first      other  \n",
       "2         2B            South  middle     simple  \n",
       "3         2B            South    high     simple  \n",
       "4         2B            South    high      other  "
      ]
     },
     "execution_count": 104,
     "metadata": {},
     "output_type": "execute_result"
    }
   ],
   "source": [
    "df = df.rename(columns={\"Transaction Date\": \"Date\", \"Housing ID\": \"Community Name\"})\n",
    "\n",
    "# getting a list of columns\n",
    "\n",
    "cols = list(df)\n",
    "\n",
    "# Moving the column of target variable to head of list using index, pop and insert\n",
    "\n",
    "cols.insert(0, cols.pop(cols.index('Price/Square Meter')))\n",
    "df = df[cols]\n",
    "df.head()"
   ]
  },
  {
   "cell_type": "markdown",
   "metadata": {},
   "source": [
    "### Setting Time Index"
   ]
  },
  {
   "cell_type": "code",
   "execution_count": 105,
   "metadata": {},
   "outputs": [],
   "source": [
    "# Convert dtype of Transaction Date\n",
    "\n",
    "df['Date'] = pd.to_datetime(df.Date)"
   ]
  },
  {
   "cell_type": "code",
   "execution_count": 106,
   "metadata": {},
   "outputs": [],
   "source": [
    "# Setting Date as the Time Index \n",
    "\n",
    "df = df.set_index(['Date'])"
   ]
  },
  {
   "cell_type": "code",
   "execution_count": 107,
   "metadata": {},
   "outputs": [
    {
     "data": {
      "text/html": [
       "<div>\n",
       "<style scoped>\n",
       "    .dataframe tbody tr th:only-of-type {\n",
       "        vertical-align: middle;\n",
       "    }\n",
       "\n",
       "    .dataframe tbody tr th {\n",
       "        vertical-align: top;\n",
       "    }\n",
       "\n",
       "    .dataframe thead th {\n",
       "        text-align: right;\n",
       "    }\n",
       "</style>\n",
       "<table border=\"1\" class=\"dataframe\">\n",
       "  <thead>\n",
       "    <tr style=\"text-align: right;\">\n",
       "      <th></th>\n",
       "      <th>Price/Square Meter</th>\n",
       "      <th>Community Name</th>\n",
       "      <th>Livable Area</th>\n",
       "      <th>Year Built</th>\n",
       "      <th>Floor Plan</th>\n",
       "      <th>Facing Direction</th>\n",
       "      <th>Floor</th>\n",
       "      <th>Decoration</th>\n",
       "      <th>Year</th>\n",
       "      <th>Month</th>\n",
       "    </tr>\n",
       "    <tr>\n",
       "      <th>Date</th>\n",
       "      <th></th>\n",
       "      <th></th>\n",
       "      <th></th>\n",
       "      <th></th>\n",
       "      <th></th>\n",
       "      <th></th>\n",
       "      <th></th>\n",
       "      <th></th>\n",
       "      <th></th>\n",
       "      <th></th>\n",
       "    </tr>\n",
       "  </thead>\n",
       "  <tbody>\n",
       "    <tr>\n",
       "      <th>2015-05-08</th>\n",
       "      <td>38544.0</td>\n",
       "      <td>中关村南大街甲3号</td>\n",
       "      <td>56.30</td>\n",
       "      <td>1965</td>\n",
       "      <td>2B</td>\n",
       "      <td>South</td>\n",
       "      <td>low</td>\n",
       "      <td>simple</td>\n",
       "      <td>2015</td>\n",
       "      <td>5</td>\n",
       "    </tr>\n",
       "    <tr>\n",
       "      <th>2012-04-10</th>\n",
       "      <td>33667.0</td>\n",
       "      <td>中关村南大街甲3号</td>\n",
       "      <td>55.10</td>\n",
       "      <td>1965</td>\n",
       "      <td>2B</td>\n",
       "      <td>South</td>\n",
       "      <td>first</td>\n",
       "      <td>other</td>\n",
       "      <td>2012</td>\n",
       "      <td>4</td>\n",
       "    </tr>\n",
       "    <tr>\n",
       "      <th>2019-04-19</th>\n",
       "      <td>91429.0</td>\n",
       "      <td>民族大学南路19号院</td>\n",
       "      <td>70.00</td>\n",
       "      <td>1993</td>\n",
       "      <td>2B</td>\n",
       "      <td>South</td>\n",
       "      <td>middle</td>\n",
       "      <td>simple</td>\n",
       "      <td>2019</td>\n",
       "      <td>4</td>\n",
       "    </tr>\n",
       "    <tr>\n",
       "      <th>2019-04-07</th>\n",
       "      <td>102752.0</td>\n",
       "      <td>民族大学南路19号院</td>\n",
       "      <td>98.49</td>\n",
       "      <td>2000</td>\n",
       "      <td>2B</td>\n",
       "      <td>South</td>\n",
       "      <td>high</td>\n",
       "      <td>simple</td>\n",
       "      <td>2019</td>\n",
       "      <td>4</td>\n",
       "    </tr>\n",
       "    <tr>\n",
       "      <th>2019-02-22</th>\n",
       "      <td>98847.0</td>\n",
       "      <td>民族大学南路19号院</td>\n",
       "      <td>60.70</td>\n",
       "      <td>1991</td>\n",
       "      <td>2B</td>\n",
       "      <td>South</td>\n",
       "      <td>high</td>\n",
       "      <td>other</td>\n",
       "      <td>2019</td>\n",
       "      <td>2</td>\n",
       "    </tr>\n",
       "  </tbody>\n",
       "</table>\n",
       "</div>"
      ],
      "text/plain": [
       "            Price/Square Meter Community Name  Livable Area Year Built  \\\n",
       "Date                                                                     \n",
       "2015-05-08             38544.0      中关村南大街甲3号         56.30       1965   \n",
       "2012-04-10             33667.0      中关村南大街甲3号         55.10       1965   \n",
       "2019-04-19             91429.0     民族大学南路19号院         70.00       1993   \n",
       "2019-04-07            102752.0     民族大学南路19号院         98.49       2000   \n",
       "2019-02-22             98847.0     民族大学南路19号院         60.70       1991   \n",
       "\n",
       "           Floor Plan Facing Direction   Floor Decoration  Year  Month  \n",
       "Date                                                                    \n",
       "2015-05-08         2B            South     low     simple  2015      5  \n",
       "2012-04-10         2B            South   first      other  2012      4  \n",
       "2019-04-19         2B            South  middle     simple  2019      4  \n",
       "2019-04-07         2B            South    high     simple  2019      4  \n",
       "2019-02-22         2B            South    high      other  2019      2  "
      ]
     },
     "execution_count": 107,
     "metadata": {},
     "output_type": "execute_result"
    }
   ],
   "source": [
    "# Extracting Year, Month and Weekday from the time index\n",
    "\n",
    "df['Year'] = df.index.year\n",
    "df['Month'] = df.index.month\n",
    "#df['weekday_name'] = df.index.day_name()\n",
    "\n",
    "df.head()"
   ]
  },
  {
   "cell_type": "markdown",
   "metadata": {},
   "source": [
    "## Data Plotting and Interpretation "
   ]
  },
  {
   "cell_type": "markdown",
   "metadata": {},
   "source": [
    "### Checking the Distribution of the Target Variable"
   ]
  },
  {
   "cell_type": "code",
   "execution_count": 108,
   "metadata": {},
   "outputs": [
    {
     "data": {
      "image/png": "[encoded data removed]",
      "text/plain": [
       "<Figure size 864x648 with 1 Axes>"
      ]
     },
     "metadata": {
      "needs_background": "light"
     },
     "output_type": "display_data"
    }
   ],
   "source": [
    "#Setting figure size \n",
    "\n",
    "plt.figure(figsize=(12,9)) \n",
    "\n",
    "#Plotting the histogram of Price/Square Meter\n",
    "\n",
    "plt.hist(df['Price/Square Meter'], bins=60, color='lightblue', alpha=0.8, label='Value', edgecolor='white', linewidth=2)\n",
    "plt.xlabel('Price/Square Meter')\n",
    "plt.ylabel('Frequency of Price/Square Meter')\n",
    "plt.title('Distribution of Price/Square Meter')\n",
    "plt.show()"
   ]
  },
  {
   "cell_type": "markdown",
   "metadata": {},
   "source": [
    "#### Key Takeways:\n",
    "#### 1. The target variable is not normally distributed.\n",
    "#### 2. The target variable is right skewed."
   ]
  },
  {
   "cell_type": "markdown",
   "metadata": {},
   "source": [
    "### Plotting Heatmap"
   ]
  },
  {
   "cell_type": "code",
   "execution_count": 109,
   "metadata": {
    "scrolled": true
   },
   "outputs": [
    {
     "data": {
      "text/plain": [
       "Text(0.5, 1.0, 'Correlation Between Features and Target')"
      ]
     },
     "execution_count": 109,
     "metadata": {},
     "output_type": "execute_result"
    },
    {
     "data": {
      "image/png": "[encoded data removed]",
      "text/plain": [
       "<Figure size 432x288 with 2 Axes>"
      ]
     },
     "metadata": {
      "needs_background": "light"
     },
     "output_type": "display_data"
    }
   ],
   "source": [
    "#Creating correlation matrix\n",
    "\n",
    "corr = df.corr() \n",
    "\n",
    "#Creating heatmap \n",
    "\n",
    "hmp = sns.heatmap(\n",
    "    corr, \n",
    "    vmin=-1, vmax=1, center=0,\n",
    "    cmap=sns.diverging_palette(20, 220, n=200),\n",
    "    square=True)\n",
    "\n",
    "hmp.set_xticklabels(\n",
    "    hmp.get_xticklabels(),\n",
    "    rotation=45,\n",
    "    horizontalalignment='right');\n",
    "plt.title('Correlation Between Features and Target')"
   ]
  },
  {
   "cell_type": "markdown",
   "metadata": {},
   "source": [
    "#### Key Takeways:\n",
    "#### 1. The target variable seems negatively correlated with livable area. This is indeed the case in Beijing, which means smaller the houses are coupled with higher unit housing prices. \n",
    "#### 2. The correlations between target variable and time metrics such as year and month are not so useful due to autocorrelation.\n",
    "#### 3. The heatmap cannot include the correalations between the target variable and the categorical variables such as floor plan, decoration and facing direction."
   ]
  },
  {
   "cell_type": "markdown",
   "metadata": {},
   "source": [
    "### Checking the relationships between the target variable and different facing directions"
   ]
  },
  {
   "cell_type": "code",
   "execution_count": 110,
   "metadata": {},
   "outputs": [
    {
     "data": {
      "text/plain": [
       "<Figure size 432x288 with 0 Axes>"
      ]
     },
     "metadata": {},
     "output_type": "display_data"
    },
    {
     "data": {
      "image/png": "[encoded data removed]",
      "text/plain": [
       "<Figure size 864x648 with 1 Axes>"
      ]
     },
     "metadata": {
      "needs_background": "light"
     },
     "output_type": "display_data"
    }
   ],
   "source": [
    "#Create boxplot\n",
    "\n",
    "plt.figure()\n",
    "df.boxplot(column= 'Price/Square Meter', by='Facing Direction', rot = 0, figsize = (12,9))\n",
    "plt.suptitle('')\n",
    "plt.title('Price/Square Meter by Facing Direction')\n",
    "plt.xlabel('Facing Direction')\n",
    "plt.ylabel('Price/Square Meter')\n",
    "plt.show()"
   ]
  },
  {
   "cell_type": "markdown",
   "metadata": {},
   "source": [
    "#### Key Takeways:\n",
    "#### We see the houses facing south are with highest housing prices. This is in fact reflecting a strong preference for sunlight among people in the northern China.\n"
   ]
  },
  {
   "cell_type": "markdown",
   "metadata": {},
   "source": [
    "### Checking the relationships between the target variable and different floor level"
   ]
  },
  {
   "cell_type": "code",
   "execution_count": 111,
   "metadata": {},
   "outputs": [
    {
     "data": {
      "text/plain": [
       "<Figure size 432x288 with 0 Axes>"
      ]
     },
     "metadata": {},
     "output_type": "display_data"
    },
    {
     "data": {
      "image/png": "[encoded data removed]",
      "text/plain": [
       "<Figure size 864x648 with 1 Axes>"
      ]
     },
     "metadata": {
      "needs_background": "light"
     },
     "output_type": "display_data"
    }
   ],
   "source": [
    "#Creating boxplot\n",
    "\n",
    "plt.figure()\n",
    "df.boxplot(column= 'Price/Square Meter', by='Floor', rot = 0, figsize = (12,9))\n",
    "plt.suptitle('')\n",
    "plt.title('Price/Square Meter by Floor')\n",
    "plt.xlabel('Floor')\n",
    "plt.ylabel('Price/Square Meter')\n",
    "plt.show()"
   ]
  },
  {
   "cell_type": "markdown",
   "metadata": {},
   "source": [
    "#### Key Takeways:\n",
    "#### We see the houses on the first floor and the middle-level floor are with highest housing prices. This is actually revealing two preferences among people living in Beijing. First, families with the elder have strong preference for the first floor in order to provide convenience for the elder. Second, People who living in Beijing also value sunlight but not height for choosing their residences. "
   ]
  },
  {
   "cell_type": "markdown",
   "metadata": {},
   "source": [
    "### Checking the relationships between the target variable and year built (housing age)"
   ]
  },
  {
   "cell_type": "code",
   "execution_count": 112,
   "metadata": {},
   "outputs": [
    {
     "data": {
      "text/plain": [
       "<Figure size 432x288 with 0 Axes>"
      ]
     },
     "metadata": {},
     "output_type": "display_data"
    },
    {
     "data": {
      "image/png": "[encoded data removed]",
      "text/plain": [
       "<Figure size 864x648 with 1 Axes>"
      ]
     },
     "metadata": {
      "needs_background": "light"
     },
     "output_type": "display_data"
    }
   ],
   "source": [
    "#Creating boxplot\n",
    "\n",
    "plt.figure()\n",
    "df.boxplot(column= 'Price/Square Meter', by='Year Built', rot = 90, figsize = (12,9))\n",
    "plt.suptitle('')\n",
    "plt.title('Price/Square Meter by Year Built')\n",
    "plt.xlabel('Year Built')\n",
    "plt.ylabel('Price/Square Meter')\n",
    "plt.show()"
   ]
  },
  {
   "cell_type": "markdown",
   "metadata": {},
   "source": [
    "#### Key Takeways:\n",
    "#### We see that there are old houses with higher housing prices on the left-hand side compared to their counterparts. There are two possible interpretations. The first is they are within good school districts which contribute a lot to their values. Second, the old buildings are mainly locating in the central areas of the city with major amenities of the cities which could also add values to their housing values."
   ]
  },
  {
   "cell_type": "markdown",
   "metadata": {},
   "source": [
    "### Checking the variation of target variable along with years"
   ]
  },
  {
   "cell_type": "code",
   "execution_count": 113,
   "metadata": {},
   "outputs": [
    {
     "data": {
      "text/plain": [
       "<Figure size 432x288 with 0 Axes>"
      ]
     },
     "metadata": {},
     "output_type": "display_data"
    },
    {
     "data": {
      "image/png": "[encoded data removed]",
      "text/plain": [
       "<Figure size 864x648 with 1 Axes>"
      ]
     },
     "metadata": {
      "needs_background": "light"
     },
     "output_type": "display_data"
    }
   ],
   "source": [
    "#Create boxplot\n",
    "\n",
    "plt.figure()\n",
    "df.boxplot(column= 'Price/Square Meter', by='Year', rot = 0, figsize = (12,9))\n",
    "plt.suptitle('')\n",
    "plt.title('Price/Square Meter by Year')\n",
    "plt.xlabel('Year')\n",
    "plt.ylabel('Price/Square Meter')\n",
    "plt.show()"
   ]
  },
  {
   "cell_type": "markdown",
   "metadata": {},
   "source": [
    "#### Key Takeways:\n",
    "#### We see that there was an increasing trend for housing prices from 2012 to 2019 followed by a downward movements. There are two possible interpretations. The expansionary monetary policy is the main cause for housing prices booming during those years. However, in order to mitigate the risk of the collapse of housing market, the central bank collected liquidity startging from at the last quarter of 2016. Meanwhile, the local government conducted restrictions on housing purchase. These two policies cooled down the housing market after 2017."
   ]
  },
  {
   "cell_type": "markdown",
   "metadata": {},
   "source": [
    "### Checking the variation of target variable across a year"
   ]
  },
  {
   "cell_type": "code",
   "execution_count": 114,
   "metadata": {},
   "outputs": [
    {
     "data": {
      "text/plain": [
       "<Figure size 432x288 with 0 Axes>"
      ]
     },
     "metadata": {},
     "output_type": "display_data"
    },
    {
     "data": {
      "image/png": "[encoded data removed]",
      "text/plain": [
       "<Figure size 864x648 with 1 Axes>"
      ]
     },
     "metadata": {
      "needs_background": "light"
     },
     "output_type": "display_data"
    }
   ],
   "source": [
    "#Create boxplot\n",
    "\n",
    "plt.figure()\n",
    "df.boxplot(column= 'Price/Square Meter', by='Month', rot = 0, figsize = (12,9))\n",
    "plt.suptitle('')\n",
    "plt.title('Price/Square Meter by Month')\n",
    "plt.xlabel('Month')\n",
    "plt.ylabel('Price/Square Meter')\n",
    "plt.show()"
   ]
  },
  {
   "cell_type": "markdown",
   "metadata": {},
   "source": [
    "#### Key Takeways:\n",
    "#### We see that housing prices were higher in Febrary and March compared with their peers. This is fact-reavling since the Luna New Year usually locating at end of Janary or the start of Febrary in each year, meaning people also receive their year-end bonus at that time creating purchasing momentum for housing during that time period.  "
   ]
  },
  {
   "cell_type": "markdown",
   "metadata": {},
   "source": [
    "## Summary"
   ]
  },
  {
   "cell_type": "markdown",
   "metadata": {},
   "source": [
    "#### 1. The target variable is right skewed.\n",
    "#### 2. The target variable seems negatively correlated with livable area, which means the smaller the houses the higher unit housing prices.\n",
    "#### 3. The fact that the houses facing south are with highest housing prices potentially reflects a strong preference for sunlight among people in Beijing.\n",
    "#### 4. Families with the elder have strong preference for the first floor in order to provide convenience for the elder may cause the houses on first floor with higher prices relative to their peers.\n",
    "#### 5. The Old houses are usually within good school districts may partially explain the higher prices relative to their counterparts.\n",
    "#### 6. The expansionary monetary policy followed by collecting liquidty and housing purchase restrictions may explain the increasing trend of housing prices followed by a downward movement.\n",
    "#### 7. The fact year-end bonus granted around the Lunar New Year which locating in Janary or Febrary causing purchasing momentum may explain the higher housing prices in Febrary and March compared with other months.\n"
   ]
  }
 ],
 "metadata": {
  "kernelspec": {
   "display_name": "Python 3",
   "language": "python",
   "name": "python3"
  },
  "language_info": {
   "codemirror_mode": {
    "name": "ipython",
    "version": 3
   },
   "file_extension": ".py",
   "mimetype": "text/x-python",
   "name": "python",
   "nbconvert_exporter": "python",
   "pygments_lexer": "ipython3",
   "version": "3.8.3"
  },
  "varInspector": {
   "cols": {
    "lenName": 16,
    "lenType": 16,
    "lenVar": 40
   },
   "kernels_config": {
    "python": {
     "delete_cmd_postfix": "",
     "delete_cmd_prefix": "del ",
     "library": "var_list.py",
     "varRefreshCmd": "print(var_dic_list())"
    },
    "r": {
     "delete_cmd_postfix": ") ",
     "delete_cmd_prefix": "rm(",
     "library": "var_list.r",
     "varRefreshCmd": "cat(var_dic_list()) "
    }
   },
   "types_to_exclude": [
    "module",
    "function",
    "builtin_function_or_method",
    "instance",
    "_Feature"
   ],
   "window_display": false
  }
 },
 "nbformat": 4,
 "nbformat_minor": 4
}
