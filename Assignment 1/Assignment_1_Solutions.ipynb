{
 "cells": [
  {
   "cell_type": "markdown",
   "metadata": {},
   "source": [
    "# Assignment 1 - Probability, Linear Algebra, Programming, and Git"
   ]
  },
  {
   "cell_type": "markdown",
   "metadata": {},
   "source": [
    "## SOLUTIONS"
   ]
  },
  {
   "cell_type": "markdown",
   "metadata": {},
   "source": [
    "# Probability and Statistics Theory"
   ]
  },
  {
   "cell_type": "markdown",
   "metadata": {},
   "source": [
    "*Note: for all assignments, write out all equations and math using markdown and [LaTeX](https://tobi.oetiker.ch/lshort/lshort.pdf). For this assignment show ALL math work*"
   ]
  },
  {
   "cell_type": "markdown",
   "metadata": {},
   "source": [
    "## 1\n",
    "**[3 points]**  \n",
    "Let $f(x) = \\begin{cases}\n",
    "                0           & x < 0  \\\\\n",
    "                \\alpha x^2  & 0 \\leq x \\leq 2 \\\\\n",
    "                0           & 2 < x\n",
    "            \\end{cases}$\n",
    "            \n",
    "For what value of $\\alpha$ is $f(x)$ a valid probability density function?"
   ]
  },
  {
   "cell_type": "markdown",
   "metadata": {},
   "source": [
    "**ANSWER**"
   ]
  },
  {
   "cell_type": "markdown",
   "metadata": {},
   "source": [
    "PDFs should integrate to 1 over the domain of the function, which is $(0,2)$ for $f(x)$. So we integrate and solve for $a$:\n",
    "\n",
    "$$\\int_{0}^{2} ax^2 dx=1$$\n",
    "\n",
    "$$\\int_{0}^{2} ax^2 dx= \\frac{a}{3}x^3 \\Big\\lvert_0^2 = \\frac{8}{3}a$$\n",
    "\n",
    "$$a = \\frac{3}{8}$$"
   ]
  },
  {
   "cell_type": "markdown",
   "metadata": {},
   "source": [
    "## 2\n",
    "**[3 points]** What is the cumulative distribution function (CDF) that corresponds to the following probability distribution function? Please state the value of the CDF for all possible values of $x$.\n",
    "\n",
    "$f(x) = \\begin{cases}\n",
    "    \\frac{1}{3} & 0 < x < 3 \\\\\n",
    "    0           & \\text{otherwise}\n",
    "    \\end{cases}$"
   ]
  },
  {
   "cell_type": "markdown",
   "metadata": {},
   "source": [
    "**ANSWER**"
   ]
  },
  {
   "cell_type": "markdown",
   "metadata": {},
   "source": [
    "The cumulative distribution function, $F(x)$, of a PDF, $f(x)$, is the integral of the PDF from $0$ to $x$. In this case it's in three parts. For $x\\leq0$, $F(x)=0$; for $(x\\geq3)$, $F(x)=1$. Otherwise, we need to calculate the integral:\n",
    "\n",
    "$$\\int_{0}^{x} \\frac{1}{3} dz = \\frac{1}{3} z \\Big\\lvert_0^x = \\frac{1}{3}x$$\n",
    "\n",
    "Therefore, putting it all together, the CDF is:\n",
    "\n",
    "$$F(x) = \\begin{cases}\n",
    "    0           &     x \\leq 0 \\\\\n",
    "    \\frac{x}{3} & 0 < x < 3 \\\\\n",
    "    1           & 3 \\leq x\n",
    "    \\end{cases}$$"
   ]
  },
  {
   "cell_type": "markdown",
   "metadata": {},
   "source": [
    "## 3\n",
    "**[6 points]** For the probability distribution function for the random variable $X$,\n",
    "\n",
    "$f(x) = \\begin{cases}\n",
    "    \\frac{1}{3} & 0 < x < 3 \\\\\n",
    "    0           & \\text{otherwise}\n",
    "    \\end{cases}$\n",
    "    \n",
    "what is the (a) expected value and (b) variance of $X$. *Show all work*."
   ]
  },
  {
   "cell_type": "markdown",
   "metadata": {},
   "source": [
    "**ANSWER**"
   ]
  },
  {
   "cell_type": "markdown",
   "metadata": {},
   "source": [
    "(a) Expected value:\n",
    "\n",
    "\\begin{equation}\n",
    "\\begin{split}\n",
    "E[x] & = \\int_{-\\infty}^{\\infty} x f(x) dx \\\\\n",
    "     & = \\int_{0}^{3} x \\left(\\frac{1}{3}\\right) dx \\\\\n",
    "     & = \\frac{1}{6}x^2 \\Big\\lvert_0^3 \\\\\n",
    "     & = \\frac{9}{6} \\\\\n",
    "     & = \\frac{3}{2}\n",
    "\\end{split}\n",
    "\\end{equation}\n",
    "\n",
    "(b) Variance:\n",
    "\n",
    "We start with the definition of variance, and we realize we already have one of the pieces for computing it, $E[X]$.\n",
    "\n",
    "$$Var(X) = E[(X-E[X])^2] = E[x^2] - E[X]^2$$\n",
    "\n",
    "Therefore, we only need to compute $E[X^2]$:\n",
    "\n",
    "\\begin{equation}\n",
    "\\begin{split}\n",
    "E[x^2] & = \\int_{-\\infty}^{\\infty} x^2 f(x) dx \\\\\n",
    "       & = \\int_{0}^{3} x^2 \\left(\\frac{1}{3}\\right) dx \\\\\n",
    "       & = \\frac{1}{9}x^3 \\Big\\lvert_0^3 \\\\\n",
    "       & = \\frac{27}{9} \\\\\n",
    "       & = 3\n",
    "\\end{split}\n",
    "\\end{equation}\n",
    "\n",
    "Lastly, we compute the variance:\n",
    "\n",
    "$$Var(X) = E[x^2] - E[X]^2 = 3 - \\left(\\frac{3}{2}\\right) = \\frac{3}{4}$$"
   ]
  },
  {
   "cell_type": "markdown",
   "metadata": {},
   "source": [
    "## 4\n",
    "**[6 points]** Consider the following table of data that provides the values of a discrete data vector $\\mathbf{x}$ of samples from the random variable $X$, where each entry in $\\mathbf{x}$ is given as $x_i$.\n",
    "\n",
    "*Table 1. Dataset N=5 observations*\n",
    "\n",
    "|        | $x_0$ | $x_1$ | $x_2$ | $x_3$ | $x_4$ |\n",
    "|------  |-------|-------|-------|-------|-------|\n",
    "|$\\textbf{x}$| 2     | 3     | 10    | -1    | -1    |\n",
    "\n",
    "What is the (a) mean, and (b) variance of the data? \n",
    "\n",
    "*Show all work. Your answer should include the definition of mean, median, and variance in the context of discrete data. In this case, use the sample variance since the sample size is quite small*"
   ]
  },
  {
   "cell_type": "markdown",
   "metadata": {},
   "source": [
    "**ANSWER**"
   ]
  },
  {
   "cell_type": "markdown",
   "metadata": {},
   "source": [
    "(a) Mean\n",
    "\n",
    "$$E[X] = \\frac{1}{N} \\displaystyle\\sum_i x_i = \\frac{2+3+10-1-1}{5} = \\frac{13}{5} = 2.6 $$\n",
    "\n",
    "(b) Variance\n",
    "\n",
    "\\begin{equation}\n",
    "\\begin{split}\n",
    "    Var(X) &= E[(X-E[X])^2] \\\\\n",
    "         &= E[(X-(2.6)^2)] \\\\\n",
    "         &= \\frac{1}{N-1} \\displaystyle\\sum_i (x_i-(2.6)^2) \\\\\n",
    "         &= \\frac{(-0.6)^2+(0.4)^2+(7.4)^2+(-3.6)^2+(-3.6)^2}{4} \\\\\n",
    "         &= 20.3\n",
    "\\end{split}\n",
    "\\end{equation}"
   ]
  },
  {
   "cell_type": "markdown",
   "metadata": {},
   "source": [
    "## 5\n",
    "**[8 points]** Review of counting from probability theory. \n",
    "\n",
    "(a) How many different 7-place license plates are possible if the first 3 places only contain letters and the last 4 only contain numbers?\n",
    "\n",
    "(b) How many different batting orders are possible for a baseball team with 9 players?\n",
    "\n",
    "(c) How many batting orders of 5 players are possible for a team with 9 players total?\n",
    "\n",
    "(d) Let's assume this class has 26 students and we want to form project teams. How many unique teams of 3 are possible?\n",
    "\n",
    "*Hint: For each problem, determine if order matters, and if it should be calculated with or without replacement.*"
   ]
  },
  {
   "cell_type": "markdown",
   "metadata": {},
   "source": [
    "**ANSWER**"
   ]
  },
  {
   "cell_type": "markdown",
   "metadata": {},
   "source": [
    "**(a)** There are 26 letters in the English alphabet, and 10 possible numbers (0-9). In this case, different permutations are distinct, so \"AJA2293\" is distinct from \"JAA2293\". That is to say, order matters. In this case, the total number of different license plates is:\n",
    "$$26 \\cdot 26 \\cdot 26 \\cdot 10 \\cdot 10 \\cdot 10 \\cdot 10 = 26^3 10^4 = 175,760,000$$\n",
    "\n",
    "There are **175,760,000** distinct license plates that are possible.\n",
    "\n",
    "**(b)** In this case we can consider this sampling without replacement (since one player cannot be in the same batting order twice). For the first position there are nine possibilities, for the second position there are 8 since we cannot include the player who was first also in the second. For the third position, we must exclude the previous two players from consideration, so there are 7, and so on...\n",
    "\n",
    "$$9 \\cdot 8 \\cdot 7 \\cdot 6 \\cdot 5 \\cdot 4 \\cdot 3 \\cdot 2 \\cdot 1 = 9! = 362,880$$\n",
    "\n",
    "There are **362,880** possible batting orders.\n",
    "\n",
    "**(c)** In this case we follow the same logic as in part (b), but we limit ourselves to 5 possible players in any given batting order:\n",
    "$$9 \\cdot 8 \\cdot 7 \\cdot 6 \\cdot 5 = \\frac{9!}{(9-5)!} = 15,120$$\n",
    "There are **15,120** possible batting orders.\n",
    "\n",
    "**(d)** This is equivalent to asking how many combinations of 3 are possible from a set of 26. Here order does not matter. This is similar to part (c), except that we don't care about order, so we must divide by the number of ways of ordering each of the three members of the team:\n",
    "\n",
    "One way of writing this is as follows:\n",
    "$$\\frac{26 \\cdot 25 \\cdot 24}{3!} = 2,600$$\n",
    "\n",
    "Equivalently, this is written using the well-known formula:\n",
    "\n",
    "$$\\binom{n}{k} = \\frac{n!}{(n-k)!k!} = \\frac{26!}{(26-3)!3!} =2,600$$\n",
    "\n",
    "There are **2,600** possible unique teams of 3 from a class of 26 students."
   ]
  },
  {
   "cell_type": "markdown",
   "metadata": {},
   "source": [
    "# Linear Algebra"
   ]
  },
  {
   "cell_type": "markdown",
   "metadata": {},
   "source": [
    "## 6\n",
    "**[7 points]** **Matrix manipulations and multiplication**. Machine learning involves working with many matrices, so this exercise will provide you with the opportunity to practice those skills.\n",
    "\n",
    "Let\n",
    "$\\mathbf{A} =  \\begin{bmatrix}\n",
    "1 & 2 & 3 \\\\\n",
    "2 & 4 & 5 \\\\\n",
    "3 & 5 & 6 \n",
    "\\end{bmatrix}$, $\\mathbf{b} =  \\begin{bmatrix}\n",
    "-1  \\\\\n",
    "3  \\\\\n",
    "8  \n",
    "\\end{bmatrix}$, $\\mathbf{c} =  \\begin{bmatrix}\n",
    "4  \\\\\n",
    "-3  \\\\\n",
    "6  \n",
    "\\end{bmatrix}$, and $\\mathbf{I} =  \\begin{bmatrix}\n",
    "1 & 0 & 0 \\\\\n",
    "0 & 1 & 0 \\\\\n",
    "0 & 0 & 1 \n",
    "\\end{bmatrix}$\n",
    "\n",
    "Compute the following or indicate that it cannot be computed:\n",
    "\n",
    "1. $\\mathbf{A}\\mathbf{A}$\n",
    "2. $\\mathbf{A}\\mathbf{A}^T$\n",
    "3. $\\mathbf{A}\\mathbf{b}$\n",
    "4. $\\mathbf{A}\\mathbf{b}^T$\n",
    "5. $\\mathbf{b}\\mathbf{A}$\n",
    "6. $\\mathbf{b}^T\\mathbf{A}$\n",
    "7. $\\mathbf{b}\\mathbf{b}$\n",
    "8. $\\mathbf{b}^T\\mathbf{b}$\n",
    "9. $\\mathbf{b}\\mathbf{b}^T$\n",
    "10. $\\mathbf{b} + \\mathbf{c}^T$\n",
    "11. $\\mathbf{b}^T\\mathbf{b}^T$\n",
    "12. $\\mathbf{A}^{-1}\\mathbf{b}$\n",
    "13. $\\mathbf{A}\\circ\\mathbf{A}$\n",
    "14. $\\mathbf{b}\\circ\\mathbf{c}$\n",
    "\n",
    "*Note: The element-wise (or Hadamard) product is the product of each element in one matrix with the corresponding element in another matrix, and is represented by the symbol \"$\\circ$\".*"
   ]
  },
  {
   "cell_type": "markdown",
   "metadata": {},
   "source": [
    "**ANSWER**"
   ]
  },
  {
   "cell_type": "code",
   "execution_count": 7,
   "metadata": {},
   "outputs": [
    {
     "name": "stdout",
     "output_type": "stream",
     "text": [
      "1. AA: [3 x 3][3 x 3]\n",
      "[[14 25 31]\n",
      " [25 45 56]\n",
      " [31 56 70]]\n",
      "\n",
      "2. AA^T: [3 x 3][3 x 3]\n",
      "[[14 25 31]\n",
      " [25 45 56]\n",
      " [31 56 70]]\n",
      "\n",
      "3. Ab: [3 x 3][3 x 1]\n",
      "[[29]\n",
      " [50]\n",
      " [60]]\n",
      "\n",
      "4. Ab^T: [3 x 3][1 x 3]\n",
      "Shape mismatch - cannot be computed\n",
      "\n",
      "5. bA: [3 x 1][3 x 3]\n",
      "Shape mismatch - cannot be computed\n",
      "\n",
      "6. b^TA: [1 x 3][3 x 3]\n",
      "[[29 50 60]]\n",
      "\n",
      "7. bb: [3 x 1][3 x 1]\n",
      "Shape mismatch - cannot be computed\n",
      "\n",
      "8. b^T b: [1 x 3][3 x 1]\n",
      "[[74]]\n",
      "\n",
      "9. bb^T: [3 x 1][1 x 3]\n",
      "[[ 1 -3 -8]\n",
      " [-3  9 24]\n",
      " [-8 24 64]]\n",
      "\n",
      "10. b + c^T: [3 x 1] + [1 x 3]\n",
      "Shape mismatch - cannot be computed\n",
      "\n",
      "11. b^T b^T: [3 x 1][3 x 1]\n",
      "Shape mismatch - cannot be computed\n",
      "\n",
      "12. A^-1 b: [3 x 3][3 x 1]\n",
      "[[ 6.]\n",
      " [ 4.]\n",
      " [-5.]]\n",
      "\n",
      "13. A o A: [3 x 3] o [3 x 3]\n",
      "[[ 1  4  9]\n",
      " [ 4 16 25]\n",
      " [ 9 25 36]]\n",
      "\n",
      "14. b o c: [3 x 3] o [3 x 3]\n",
      "[[-4]\n",
      " [-9]\n",
      " [48]]\n",
      "\n"
     ]
    }
   ],
   "source": [
    "%matplotlib inline\n",
    "import numpy as np\n",
    "\n",
    "# Begin by creating vectors of each of the above matrices:\n",
    "A = np.array([[1, 2, 3],[2, 4, 5],[3, 5, 6]])\n",
    "b = np.array([-1, 3, 8])[np.newaxis].T\n",
    "c = np.array([4, -3, 6])[np.newaxis].T\n",
    "I = np.identity(3)\n",
    "\n",
    "# 1. AA\n",
    "print('1. AA: [3 x 3][3 x 3]\\n{}\\n'.format( A.dot(A) ))\n",
    "\n",
    "# 2. AA^T\n",
    "print('2. AA^T: [3 x 3][3 x 3]\\n{}\\n'.format( A.dot(A.T) ))\n",
    "\n",
    "# 3. Ab\n",
    "print('3. Ab: [3 x 3][3 x 1]\\n{}\\n'.format( A.dot(b) ))\n",
    "\n",
    "# 4. Ab^T\n",
    "print('4. Ab^T: [3 x 3][1 x 3]\\n{}\\n'.format( 'Shape mismatch - cannot be computed' ))\n",
    "\n",
    "# 5. bA\n",
    "print('5. bA: [3 x 1][3 x 3]\\n{}\\n'.format( 'Shape mismatch - cannot be computed' ))\n",
    "\n",
    "# 6. b^TA\n",
    "print('6. b^TA: [1 x 3][3 x 3]\\n{}\\n'.format( b.T.dot(A) ))\n",
    "\n",
    "# 7. bb\n",
    "print('7. bb: [3 x 1][3 x 1]\\n{}\\n'.format( 'Shape mismatch - cannot be computed' ))\n",
    "\n",
    "# 8. b^T b\n",
    "print('8. b^T b: [1 x 3][3 x 1]\\n{}\\n'.format( b.T.dot(b) ))\n",
    "\n",
    "# 9. bb^T\n",
    "print('9. bb^T: [3 x 1][1 x 3]\\n{}\\n'.format( b.dot(b.T) ))\n",
    "\n",
    "# 10. b + c^T\n",
    "print('10. b + c^T: [3 x 1] + [1 x 3]\\n{}\\n'.format( 'Shape mismatch - cannot be computed' ))\n",
    "\n",
    "# 11. b^T b^T\n",
    "print('11. b^T b^T: [3 x 1][3 x 1]\\n{}\\n'.format( 'Shape mismatch - cannot be computed' ))\n",
    "\n",
    "# 12. A^-1 b\n",
    "print('12. A^-1 b: [3 x 3][3 x 1]\\n{}\\n'.format( np.linalg.inv(A).dot(b) ))\n",
    "\n",
    "# 13. A o A\n",
    "print('13. A o A: [3 x 3] o [3 x 3]\\n{}\\n'.format( A*A ))\n",
    "\n",
    "# 14. b o c \n",
    "print('14. b o c: [3 x 3] o [3 x 3]\\n{}\\n'.format( b*c ))"
   ]
  },
  {
   "cell_type": "markdown",
   "metadata": {},
   "source": [
    "## 7\n",
    "**[8 points]** **Eigenvectors and eigenvalues**. Eigenvectors and eigenvalues are useful for some machine learning algorithms, but the concepts take time to solidly grasp. For an intuitive review of these concepts, explore this [interactive website at Setosa.io](http://setosa.io/ev/eigenvectors-and-eigenvalues/). Also, the series of linear algebra videos by Grant Sanderson of 3Brown1Blue are excellent and can be viewed on youtube [here](https://www.youtube.com/playlist?list=PLZHQObOWTQDPD3MizzM2xVFitgF8hE_ab).\n",
    "\n",
    "1. Calculate the eigenvalues and corresponding eigenvectors of matrix $\\mathbf{A}$ above, from the last question.\n",
    "2. Choose one of the eigenvector/eigenvalue pairs, $\\mathbf{v}$ and $\\lambda$, and show that $\\mathbf{A} \\mathbf{v} = \\lambda \\mathbf{v}$. Also show that this relationship extends to higher orders: $\\mathbf{A} \\mathbf{A} \\mathbf{v} = \\lambda^2 \\mathbf{v}$\n",
    "3. Show that the eigenvectors are orthogonal to one another (e.g. their inner product is zero). This is true for real, symmetric matrices."
   ]
  },
  {
   "cell_type": "markdown",
   "metadata": {},
   "source": [
    "**ANSWER**"
   ]
  },
  {
   "cell_type": "code",
   "execution_count": 62,
   "metadata": {},
   "outputs": [
    {
     "name": "stdout",
     "output_type": "stream",
     "text": [
      "1.)\n",
      "\n",
      "Eigenvalues:\n",
      "[ 11.34481428  -0.51572947   0.17091519]\n",
      "\n",
      "Eigenvectors:\n",
      "[[-0.32798528 -0.73697623  0.59100905]\n",
      " [-0.59100905 -0.32798528 -0.73697623]\n",
      " [-0.73697623  0.59100905  0.32798528]]\n",
      "\n",
      "2.)\n",
      "\n",
      "Av = \n",
      "[-3.72093206 -6.70488789 -8.36085845]\n",
      "\n",
      "lambda v = \n",
      "[-3.72093206 -6.70488789 -8.36085845]\n",
      "\n",
      "3.)\n",
      "\n",
      "Inner product of eigenvector 0 and 1 = -0.0000\n",
      "Inner product of eigenvector 0 and 2 = -0.0000\n",
      "Inner product of eigenvector 1 and 2 = -0.0000\n"
     ]
    }
   ],
   "source": [
    "import numpy as np\n",
    "\n",
    "A = np.array([[1, 2, 3],[2, 4, 5],[3, 5, 6]])\n",
    "\n",
    "# 1. Calculate the eigenvalues and corresponding eigenvectors\n",
    "eigenvalues, eigenvectors = np.linalg.eig(A)\n",
    "print('1.)\\n')\n",
    "print('Eigenvalues:\\n{}\\n'.format(eigenvalues))\n",
    "print('Eigenvectors:\\n{}\\n'.format(eigenvectors))\n",
    "\n",
    "# 2. Verify that A * v = lambda * v\n",
    "print('2.)\\n')\n",
    "vector = eigenvectors[:,0]\n",
    "value  = eigenvalues[0]\n",
    "Av = A.dot(vector)\n",
    "lambdav = value * vector\n",
    "print('Av = \\n{}\\n'.format(Av))\n",
    "print('lambda v = \\n{}\\n'.format(lambdav))\n",
    "\n",
    "# 3. Show that the eigenvectors are orthogonal to one another\n",
    "#    This is shown by taking the inner products between vectors and demonstrating that they equal zero\n",
    "print('3.)\\n')\n",
    "combinations = [(0,1),(0,2),(1,2)]\n",
    "for (i,comb) in enumerate(combinations):\n",
    "    inner_product = np.inner(eigenvectors[:,comb[0]],eigenvectors[:,comb[1]])\n",
    "    print('Inner product of eigenvector {} and {} = {:.4f}'.format(comb[0],comb[1],inner_product))\n",
    "    "
   ]
  },
  {
   "cell_type": "markdown",
   "metadata": {},
   "source": [
    "# Numerical Programming"
   ]
  },
  {
   "cell_type": "markdown",
   "metadata": {},
   "source": [
    "## 8\n",
    "**[10 points]** Loading data and gathering insights from a real dataset\n",
    "\n",
    "**Data**. The data for this problem can be found in the `data` subfolder in the `assignments` folder on [github](https://github.com/kylebradbury/ids705). The filename is `egrid2016.xlsx`. This dataset is the Environmental Protection Agency's (EPA) [Emissions & Generation Resource Integrated Database (eGRID)](https://www.epa.gov/energy/emissions-generation-resource-integrated-database-egrid) containing information about all power plants in the United States, the amount of generation they produce, what fuel they use, the location of the plant, and many more quantities. We'll be using a subset of those data.\n",
    "\n",
    "The fields we'll be using include:\t\t\t\t\t\n",
    "    \n",
    "|field    |description|\n",
    "|:-----   |:-----|\n",
    "|SEQPLT16 |eGRID2016 Plant file sequence number (the index)| \n",
    "|PSTATABB |Plant state abbreviation|\n",
    "|PNAME    |Plant name |\n",
    "|LAT      |Plant latitude |\n",
    "|LON      |Plant longitude|\n",
    "|PLPRMFL  |Plant primary fuel |\n",
    "|CAPFAC   |Plant capacity factor |\n",
    "|NAMEPCAP |Plant nameplate capacity (Megawatts MW)|\n",
    "|PLNGENAN |Plant annual net generation (Megawatt-hours MWh)|\n",
    "|PLCO2EQA |Plant annual CO2 equivalent emissions (tons)|\n",
    "\n",
    "For more details on the data, you can refer to the [eGrid technical documents](https://www.epa.gov/sites/production/files/2018-02/documents/egrid2016_technicalsupportdocument_0.pdf). For example, you may want to review page 45 and the section \"Plant Primary Fuel (PLPRMFL)\", which gives the full names of the fuel types including WND for wind, NG for natural gas, BIT for Bituminous coal, etc.\n",
    "\n",
    "There also are a couple of \"gotchas\" to watch out for with this dataset:\n",
    "- The headers are on the second row and you'll want to ignore the first row (they're more detailed descriptions of the headers).\n",
    "- NaN values represent blanks in the data. These will appear regularly in real-world data, so getting experience working with it will be important.\n",
    "\n",
    "**Your objective**. For this dataset, your goal is answer the following questions about electricity generation in the United States:\n",
    "\n",
    "**(a)** Which plant has generated the most energy (measured in MWh)?\n",
    "\n",
    "**(b)** What is the name of the northern-most power plant in the United States?\n",
    "\n",
    "**(c)** What is the state where the northern-most power plant in the United States is located?\n",
    "\n",
    "**(d)** Plot a bar plot showing the amount of energy produced by each fuel type across all plants. \n",
    "\n",
    "**(e)** From the plot in (d), which fuel for generation produces the most energy (MWh) in the United States?"
   ]
  },
  {
   "cell_type": "markdown",
   "metadata": {},
   "source": [
    "**ANSWER**"
   ]
  },
  {
   "cell_type": "code",
   "execution_count": 2,
   "metadata": {},
   "outputs": [],
   "source": [
    "import pandas as pd\n",
    "\n",
    "egrid = pd.read_excel('./data/egrid2016.xlsx', skiprows=[0])"
   ]
  },
  {
   "cell_type": "markdown",
   "metadata": {},
   "source": [
    "**(a)** Which plant has generated the most energy (measured in MWh)?"
   ]
  },
  {
   "cell_type": "code",
   "execution_count": 3,
   "metadata": {},
   "outputs": [
    {
     "data": {
      "text/plain": [
       "'Palo Verde'"
      ]
     },
     "execution_count": 3,
     "metadata": {},
     "output_type": "execute_result"
    }
   ],
   "source": [
    "egrid.sort_values(by='PLNGENAN', ascending=False)['PNAME'].iloc[0]"
   ]
  },
  {
   "cell_type": "markdown",
   "metadata": {},
   "source": [
    "**(b)** What is the name of the northern-most power plant in the United States?"
   ]
  },
  {
   "cell_type": "code",
   "execution_count": 4,
   "metadata": {},
   "outputs": [
    {
     "data": {
      "text/plain": [
       "'Barrow'"
      ]
     },
     "execution_count": 4,
     "metadata": {},
     "output_type": "execute_result"
    }
   ],
   "source": [
    "egrid.sort_values(by='LAT', ascending=False)['PNAME'].iloc[0]"
   ]
  },
  {
   "cell_type": "markdown",
   "metadata": {},
   "source": [
    "**(c)** What is the state where the northern-most power plant in the United States is located?"
   ]
  },
  {
   "cell_type": "code",
   "execution_count": 5,
   "metadata": {},
   "outputs": [
    {
     "data": {
      "text/plain": [
       "'AK'"
      ]
     },
     "execution_count": 5,
     "metadata": {},
     "output_type": "execute_result"
    }
   ],
   "source": [
    "egrid.sort_values(by='LAT', ascending=False)['PSTATABB'].iloc[0]"
   ]
  },
  {
   "cell_type": "markdown",
   "metadata": {},
   "source": [
    "**(d)** Plot a bar plot showing the amount of energy produced by each fuel for the plant. "
   ]
  },
  {
   "cell_type": "code",
   "execution_count": 8,
   "metadata": {},
   "outputs": [
    {
     "data": {
      "image/png": "[encoded data removed]",
      "text/plain": [
       "<Figure size 432x288 with 1 Axes>"
      ]
     },
     "metadata": {
      "needs_background": "light"
     },
     "output_type": "display_data"
    }
   ],
   "source": [
    "import matplotlib.pyplot as plt\n",
    "\n",
    "fuel_type_group = egrid.groupby('PLPRMFL').sum()\n",
    "fuel_and_gen    = fuel_type_group[['PLNGENAN']]\n",
    "\n",
    "fuel_and_gen.plot.bar()\n",
    "plt.ylabel('Generation (MWh)')\n",
    "plt.show()"
   ]
  },
  {
   "cell_type": "markdown",
   "metadata": {},
   "source": [
    "**(e)** From the plot in (d), which fuel for generation produces the most energy (MWh) in the United States?"
   ]
  },
  {
   "cell_type": "code",
   "execution_count": 9,
   "metadata": {},
   "outputs": [
    {
     "data": {
      "text/plain": [
       "'NG'"
      ]
     },
     "execution_count": 9,
     "metadata": {},
     "output_type": "execute_result"
    }
   ],
   "source": [
    "fuel_and_gen[fuel_and_gen['PLNGENAN'] == fuel_and_gen['PLNGENAN'].max()].index[0]"
   ]
  },
  {
   "cell_type": "markdown",
   "metadata": {},
   "source": [
    "## 9\n",
    "**[8 points]** Speed comparison between vectorized and non-vectorized code. Begin by creating an array of 10 million random numbers using the numpy random.randn module. Compute the sum of the squares first in a for loop, then using Numpy's `dot` module. Time how long it takes to compute each and report the results and report the output. How many times faster is the vectorized code than the for loop approach?\n",
    "\n",
    "*Note: all code should be well commented, properly formatted, and your answers should be output using the `print()` function as follows (where the # represents your answers, to a reasonable precision):\n",
    "\n",
    "`Time [sec] (non-vectorized): ######`\n",
    "\n",
    "`Time [sec] (vectorized):     ######`\n",
    "\n",
    "`The vectorized code is ##### times faster than the vectorized code`"
   ]
  },
  {
   "cell_type": "markdown",
   "metadata": {},
   "source": [
    "**ANSWER**"
   ]
  },
  {
   "cell_type": "code",
   "execution_count": 3,
   "metadata": {},
   "outputs": [
    {
     "name": "stdout",
     "output_type": "stream",
     "text": [
      "Time [sec] (non-vectorized): 4.6890\n",
      "Time [sec] (vectorized):     0.0042\n",
      "The vectorized code is 1125.3 times faster than the vectorized code\n"
     ]
    }
   ],
   "source": [
    "import numpy as np\n",
    "import time\n",
    "\n",
    "# Generate the random samples\n",
    "x = np.random.randn(10000000)\n",
    "\n",
    "# Compute the sum of squares the non-vectorized way (using a for loop)\n",
    "t0 = time.time()\n",
    "sum_of_squares = 0\n",
    "for value in x:\n",
    "    sum_of_squares += value**2\n",
    "t1 = time.time()\n",
    "time_nonvectorized = t1 - t0  \n",
    "\n",
    "# Compute the sum of squares the vectorized way (using numpy)\n",
    "t0 = time.time()\n",
    "sum_of_squares = np.dot(x,x)\n",
    "t1 = time.time()\n",
    "time_vectorized = t1 - t0\n",
    "\n",
    "print('Time [sec] (non-vectorized): {:0.4f}'.format(time_nonvectorized))\n",
    "print('Time [sec] (vectorized):     {:0.4f}'.format(time_vectorized))\n",
    "print('The vectorized code is {:0.1f} times faster than the vectorized code'.format(time_nonvectorized/time_vectorized))"
   ]
  },
  {
   "cell_type": "markdown",
   "metadata": {},
   "source": [
    "## 10\n",
    "**[10 points]** One popular Agile development framework is Scrum (a paradigm recommended for data science projects). It emphasizes the continual evolution of code for projects, becoming progressively better, but starting with a quickly developed minimum viable product. This often means that code written early on is not optimized, and that's a good thing - it's best to get it to work first before optimizing. Imagine that you wrote the following code during a sprint towards getting an end-to-end system working. Vectorize the following code and show the difference in speed between the current implementation and a vectorized version.\n",
    "\n",
    "The function below computes the function $f(x,y) = x^2 - 2 y^2$ and determines whether this quantity is above or below a given threshold, `thresh=0`. This is done for $x,y \\in \\{-4,4\\}$, over a 2,000-by-2,000 grid covering that domain.\n",
    "\n",
    "(a) Vectorize this code and demonstrate (as in the last exercise) the speed increase through vectorization and (b) plot the resulting data - both the function $f(x,y)$ and the thresholded output - using [`imshow`](https://matplotlib.org/api/_as_gen/matplotlib.pyplot.imshow.html?highlight=matplotlib%20pyplot%20imshow#matplotlib.pyplot.imshow) from `matplotlib`.\n",
    "\n",
    "*Hint: look at the `numpy` [`meshgrid`](https://docs.scipy.org/doc/numpy-1.13.0/reference/generated/numpy.meshgrid.html) documentation*"
   ]
  },
  {
   "cell_type": "markdown",
   "metadata": {},
   "source": [
    "**ANSWER**"
   ]
  },
  {
   "cell_type": "code",
   "execution_count": 2,
   "metadata": {},
   "outputs": [
    {
     "name": "stdout",
     "output_type": "stream",
     "text": [
      "Time [sec] (non-vectorized): 8.3360\n",
      "Time [sec] (vectorized):     0.1140\n",
      "The vectorized code is 73.1 times faster than the vectorized code\n"
     ]
    },
    {
     "data": {
      "image/png": "[encoded data removed]",
      "text/plain": [
       "<Figure size 432x288 with 2 Axes>"
      ]
     },
     "metadata": {
      "image/png": {
       "height": 280,
       "width": 338
      },
      "needs_background": "light"
     },
     "output_type": "display_data"
    },
    {
     "data": {
      "image/png": "[encoded data removed]",
      "text/plain": [
       "<Figure size 432x288 with 2 Axes>"
      ]
     },
     "metadata": {
      "image/png": {
       "height": 278,
       "width": 333
      },
      "needs_background": "light"
     },
     "output_type": "display_data"
    }
   ],
   "source": [
    "# This increases the resolution of the plots to make them cripser within the notebook\n",
    "%config InlineBackend.figure_format = 'retina'\n",
    "\n",
    "import numpy as np\n",
    "import time\n",
    "import matplotlib.pyplot as plt\n",
    "\n",
    "nvalues = 2000\n",
    "xvalues = np.linspace(-4,4,nvalues)\n",
    "yvalues = np.linspace(-4,4,nvalues)\n",
    "thresh  = 0\n",
    "\n",
    "# ---------------------------------------\n",
    "# (a) Vectorization\n",
    "# ---------------------------------------\n",
    "# Nonvectorized implementation\n",
    "t0 = time.time()\n",
    "f = np.zeros((nvalues,nvalues))\n",
    "f_thresholded = np.zeros((nvalues,nvalues))\n",
    "for ix, x in enumerate(xvalues):\n",
    "    for iy, y in enumerate(yvalues):\n",
    "        f[iy,ix]             = x**2 - 2 * y**2\n",
    "        f_thresholded[iy,ix] = f[iy,ix] > thresh\n",
    "t1 = time.time()\n",
    "time_nonvectorized = t1 - t0\n",
    "\n",
    "# Vectorized implementation\n",
    "t0 = time.time()\n",
    "X,Y = np.meshgrid(xvalues,yvalues)\n",
    "F = X**2 - 2 * Y**2\n",
    "F_threshold = F > thresh\n",
    "t1 = time.time()\n",
    "time_vectorized = t1 - t0\n",
    "\n",
    "# Vectorization performance results\n",
    "print('Time [sec] (non-vectorized): {:0.4f}'.format(time_nonvectorized))\n",
    "print('Time [sec] (vectorized):     {:0.4f}'.format(time_vectorized))\n",
    "print('The vectorized code is {:0.1f} times faster than the vectorized code'.format(time_nonvectorized/time_vectorized))\n",
    "\n",
    "# ---------------------------------------\n",
    "# (b) Function plotting \n",
    "# ---------------------------------------\n",
    "# Plot the function f(x,y)\n",
    "plot1 = plt.imshow(F, extent=(-4,4,-4,4), cmap='RdBu')\n",
    "plt.xlabel('x')\n",
    "plt.ylabel('y')\n",
    "plt.title('$f(x,y) = x^2 - 2 * y^2$')\n",
    "absmax = max([F.max(), abs(F.min())])\n",
    "plt.gcf().colorbar(plot1, label='$f(x,y)$')\n",
    "plot1.set_clim(-absmax,absmax)\n",
    "plt.show()\n",
    "\n",
    "# Plot the thresholded output f(x,y) > 0\n",
    "plot2 = plt.imshow(F_threshold.astype(int), extent=(-4,4,-4,4), cmap='gray')\n",
    "plt.xlabel('x')\n",
    "plt.ylabel('y')\n",
    "plt.title('$f(x,y) > 0$')\n",
    "plt.gcf().colorbar(plot2, label='$f(x,y) > 0$')\n",
    "plt.show()"
   ]
  },
  {
   "cell_type": "markdown",
   "metadata": {},
   "source": [
    "## 11\n",
    "**[10 points]** This exercise will walk through some basic numerical programming exercises.\n",
    "1. Synthesize $n=10^4$ normally distributed data points with mean $\\mu=2$ and a standard deviation of $\\sigma=1$. Call these observations from a random variable $X$, and call the vector of observations that you generate, $\\textbf{x}$.\n",
    "2. Calculate the mean and standard deviation of $\\textbf{x}$ to validate (1) and provide the result to a precision of four significant figures.\n",
    "3. Plot a histogram of the data in $\\textbf{x}$ with 30 bins\n",
    "4. What is the 90th percentile of $\\textbf{x}$? The 90th percentile is the value below which 90% of observations can be found.\n",
    "5. What is the 99th percentile of $\\textbf{x}$?\n",
    "6. Now synthesize $n=10^4$ normally distributed data points with mean $\\mu=0$ and a standard deviation of $\\sigma=3$. Call these observations from a random variable $Y$, and call the vector of observations that you generate, $\\textbf{y}$.\n",
    "7. Create a new figure and plot the histogram of the data in $\\textbf{y}$ on the same axes with the histogram of $\\textbf{x}$, so that both histograms can be seen and compared.\n",
    "8. Using the observations from $\\textbf{x}$ and $\\textbf{y}$, estimate $E[XY]$"
   ]
  },
  {
   "cell_type": "markdown",
   "metadata": {},
   "source": [
    "**ANSWER**"
   ]
  },
  {
   "cell_type": "code",
   "execution_count": 1,
   "metadata": {},
   "outputs": [
    {
     "name": "stdout",
     "output_type": "stream",
     "text": [
      "1.)\n",
      "Examples from x: [2.47298583 1.31857412 2.2424395  0.29926437 2.75314283]\n",
      "\n",
      "2.)\n",
      "x_mean = 1.988\n",
      "x_std  = 0.9943\n",
      "\n",
      "3.)\n"
     ]
    },
    {
     "data": {
      "image/png": "[encoded data removed]",
      "text/plain": [
       "<Figure size 432x288 with 1 Axes>"
      ]
     },
     "metadata": {
      "needs_background": "light"
     },
     "output_type": "display_data"
    },
    {
     "name": "stdout",
     "output_type": "stream",
     "text": [
      "\n",
      "4.)\n",
      "90th percentile = 3.267\n",
      "\n",
      "5.)\n",
      "90th percentile = 4.319\n",
      "\n",
      "6.)\n",
      "Examples from y: [ 4.04422192  3.85535993  0.99711177  1.55658765 -3.88588689]\n",
      "\n",
      "7.)\n"
     ]
    },
    {
     "data": {
      "image/png": "[encoded data removed]",
      "text/plain": [
       "<Figure size 432x288 with 1 Axes>"
      ]
     },
     "metadata": {
      "needs_background": "light"
     },
     "output_type": "display_data"
    },
    {
     "name": "stdout",
     "output_type": "stream",
     "text": [
      "\n",
      "8.)\n",
      "E[XY] = E[X]E[Y] = 0.01241\n"
     ]
    }
   ],
   "source": [
    "import numpy as np\n",
    "import matplotlib.pyplot as plt\n",
    "\n",
    "np.random.seed(12) # This ensures that random numbers will be reproducible\n",
    "\n",
    "# 1. Synthesize data x\n",
    "print('1.)')\n",
    "x = np.random.randn(10000) + 2\n",
    "print('Examples from x: {}'.format(x[0:5]))\n",
    "\n",
    "# 2. Calculate the mean and standard deviation\n",
    "print('\\n2.)')\n",
    "print('x_mean = {:.4}'.format(x.mean()))\n",
    "print('x_std  = {:.4}'.format(x.std()))\n",
    "\n",
    "# 3. Plot a historgram of x with 30 bins\n",
    "print('\\n3.)')\n",
    "plt.hist(x,bins=30)\n",
    "plt.xlabel('x')\n",
    "plt.ylabel('Number of Samples')\n",
    "plt.grid('on')\n",
    "plt.show()\n",
    "\n",
    "# 4. Compute the 90th percentile of x\n",
    "print('\\n4.)')\n",
    "percentile90 = np.percentile(x,90)\n",
    "print('90th percentile = {:.4}'.format(percentile90))\n",
    "\n",
    "# 5. Compute the 99th percentile of x\n",
    "print('\\n5.)')\n",
    "percentile99 = np.percentile(x,99)\n",
    "print('90th percentile = {:.4}'.format(percentile99))\n",
    "\n",
    "# 6. Synthesize the vector y\n",
    "print('\\n6.)')\n",
    "y = 3*np.random.randn(10000)\n",
    "print('Examples from y: {}'.format(y[0:5]))\n",
    "\n",
    "# 7. Plot the histogram of the data in x and y on one plot and compare\n",
    "print('\\n7.)')\n",
    "histx, binsx = np.histogram(x, bins=50, range=(-15, 15))\n",
    "histy, binsy = np.histogram(y, bins=50, range=(-15, 15))\n",
    "centerx = (binsx[:-1] + binsx[1:]) / 2\n",
    "centery = (binsy[:-1] + binsy[1:]) / 2\n",
    "plt.plot(centerx,histx,'r-',label='x')\n",
    "plt.plot(centery,histy,'b-',label='y')\n",
    "plt.xlabel('Values')\n",
    "plt.ylabel('Number of samples')\n",
    "plt.grid('on')\n",
    "plt.show()\n",
    "\n",
    "# 8. Estimate E[XY]\n",
    "# Since X and Y are independent, this is very simple: E[XY] = E[X]E[Y]\n",
    "print('\\n8.)')\n",
    "print('E[XY] = E[X]E[Y] = {:.4}'.format(x.mean() * y.mean()))"
   ]
  },
  {
   "cell_type": "markdown",
   "metadata": {},
   "source": [
    "# Version Control via Git"
   ]
  },
  {
   "cell_type": "markdown",
   "metadata": {},
   "source": [
    "## 12\n",
    "**[1 point]** You will need to use Git to submit assignments and in the course projects and is generally a version control and collaboration tool. You can even use some Git repositories (e.g. Github) as hosts for website, such as with the [course website](https://kylebradbury.github.io/ids705/index.html). \n",
    "\n",
    "Complete the [Atlassian Git tutorial](https://www.atlassian.com/git/tutorials/what-is-version-control), specifically the following listed sections. Try each concept that's presented. For this tutorial, instead of using BitBucket as your remote repository host, you may use your preferred platform such as [Github](https://github.com/) or [Duke's Gitlab](https://gitlab.oit.duke.edu/users/sign_in).\n",
    "1. [What is version control](https://www.atlassian.com/git/tutorials/what-is-version-control)\n",
    "2. [What is Git](https://www.atlassian.com/git/tutorials/what-is-git)\n",
    "3. [Install Git](https://www.atlassian.com/git/tutorials/install-git)\n",
    "4. [Setting up a repository](https://www.atlassian.com/git/tutorials/install-git)\n",
    "5. [Saving changes](https://www.atlassian.com/git/tutorials/saving-changes)\n",
    "6. [Inspecting a repository](https://www.atlassian.com/git/tutorials/inspecting-a-repository)\n",
    "7. [Undoing changes](https://www.atlassian.com/git/tutorials/undoing-changes)\n",
    "8. [Rewriting history](https://www.atlassian.com/git/tutorials/rewriting-history)\n",
    "9. [Syncing](https://www.atlassian.com/git/tutorials/syncing)\n",
    "10. [Making a pull request](https://www.atlassian.com/git/tutorials/making-a-pull-request)\n",
    "11. [Using branches](https://www.atlassian.com/git/tutorials/using-branches)\n",
    "12. [Comparing workflows](https://www.atlassian.com/git/tutorials/comparing-workflows)\n",
    "\n",
    "I also have created two videos on the topic to help you understand some of these concepts: [Git basics](https://www.youtube.com/watch?v=fBCwfoBr2ng) and a [step-by-step tutorial](https://www.youtube.com/watch?v=nH7qJHx-h5s).\n",
    "\n",
    "For your answer, affirm that you *either* completed the tutorial or have previous experience with all of the concepts above. Do this by typing your name below and selecting the situation that applies from the two options in brackets."
   ]
  },
  {
   "cell_type": "markdown",
   "metadata": {},
   "source": [
    "**ANSWER**\n",
    "\n",
    "*I, [**your name here**], affirm that I have [**completed the above tutorial / I have previous experience that covers all the content in this tutorial**]*"
   ]
  },
  {
   "cell_type": "markdown",
   "metadata": {},
   "source": [
    "**ANSWER**"
   ]
  },
  {
   "cell_type": "markdown",
   "metadata": {},
   "source": [
    "# Exploratory Data Analysis\n",
    "## 13\n",
    "**[20 points]** Here you'll bring together some of the individual skills that you demonstrated above and create a Jupyter notebook based blog post on data analysis.\n",
    "\n",
    "1. Find a dataset that interests you and relates to a question or problem that you find intriguing\n",
    "2. Using a Jupyter notebook, describe the dataset, the source of the data, and the reason the dataset was of interest.\n",
    "3. Check the data and see if they need to be cleaned: are there missing values? Are there clearly erroneous values? Do two tables need to be merged together? Clean the data so it can be visualized.\n",
    "3. Plot the data, demonstrating interesting features that you discover. Are there any relationships between variables that were surprising or patterns that emerged? Please exercise creativity and curiosity in your plots.\n",
    "4. What insights are you able to take away from exploring the data? Is there a reason why analyzing the dataset you chose is particularly interesting or important? Summarize this as if your target audience was the readership of a major news organization - boil down your findings in a way that is accessible, but still accurate.\n",
    "\n",
    "Here your analysis will evaluated based on:\n",
    "1. Data cleaning: did you look for and work to resolve issues in the data?\n",
    "2. Quality of data exploration: did you provide plots demonstrating interesting aspects of the data?\n",
    "3. Interpretation: Did you clearly explain your insights? Restating the data, alone, is not interpretation.\n",
    "5. Professionalism: Was this work done in a way that exhibits professionalism through clarity, organization, high quality figures and plots, and meaningful descriptions?"
   ]
  },
  {
   "cell_type": "markdown",
   "metadata": {},
   "source": [
    "**ANSWER**"
   ]
  }
 ],
 "metadata": {
  "kernelspec": {
   "display_name": "Python 3",
   "language": "python",
   "name": "python3"
  },
  "language_info": {
   "codemirror_mode": {
    "name": "ipython",
    "version": 3
   },
   "file_extension": ".py",
   "mimetype": "text/x-python",
   "name": "python",
   "nbconvert_exporter": "python",
   "pygments_lexer": "ipython3",
   "version": "3.7.4"
  },
  "varInspector": {
   "cols": {
    "lenName": 16,
    "lenType": 16,
    "lenVar": 40
   },
   "kernels_config": {
    "python": {
     "delete_cmd_postfix": "",
     "delete_cmd_prefix": "del ",
     "library": "var_list.py",
     "varRefreshCmd": "print(var_dic_list())"
    },
    "r": {
     "delete_cmd_postfix": ") ",
     "delete_cmd_prefix": "rm(",
     "library": "var_list.r",
     "varRefreshCmd": "cat(var_dic_list()) "
    }
   },
   "position": {
    "height": "643px",
    "left": "1548px",
    "right": "20px",
    "top": "121px",
    "width": "350px"
   },
   "types_to_exclude": [
    "module",
    "function",
    "builtin_function_or_method",
    "instance",
    "_Feature"
   ],
   "window_display": true
  }
 },
 "nbformat": 4,
 "nbformat_minor": 2
}
